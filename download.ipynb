{
 "cells": [
  {
   "cell_type": "markdown",
   "metadata": {},
   "source": [
    "# Download\n",
    "\n",
    "Baseball data download routines"
   ]
  },
  {
   "cell_type": "code",
   "execution_count": 2,
   "metadata": {},
   "outputs": [],
   "source": [
    "import os\n",
    "import requests\n",
    "import collections\n",
    "import pandas as pd\n",
    "from bs4 import Comment\n",
    "from bs4 import BeautifulSoup\n",
    "from datetime import date"
   ]
  },
  {
   "cell_type": "markdown",
   "metadata": {},
   "source": [
    "### Fangraphs lineups"
   ]
  },
  {
   "cell_type": "code",
   "execution_count": 2,
   "metadata": {},
   "outputs": [],
   "source": [
    "url = 'https://www.baseball-reference.com/teams/CHC/2018-batting-orders.shtml'"
   ]
  },
  {
   "cell_type": "code",
   "execution_count": 3,
   "metadata": {},
   "outputs": [],
   "source": [
    "r = requests.get(url)"
   ]
  },
  {
   "cell_type": "code",
   "execution_count": 4,
   "metadata": {},
   "outputs": [],
   "source": [
    "soup = BeautifulSoup(r.text, 'html.parser')"
   ]
  },
  {
   "cell_type": "code",
   "execution_count": 9,
   "metadata": {},
   "outputs": [],
   "source": [
    "table = soup.find(\"table\", id=\"grid_table_235551\")"
   ]
  },
  {
   "cell_type": "code",
   "execution_count": 26,
   "metadata": {},
   "outputs": [],
   "source": [
    "game_list = table.tbody.find_all(\"tr\")"
   ]
  },
  {
   "cell_type": "code",
   "execution_count": 45,
   "metadata": {},
   "outputs": [],
   "source": [
    "def parse_batter(cell):\n",
    "    d = {\n",
    "        'id': cell.a['data-entry-id'],\n",
    "        'name': cell.a['title'],\n",
    "        'position': cell.small.text.split(\"-\")[1]\n",
    "    }\n",
    "    return 'pitcher' if d['position'] == 'P' else d['name'].split()[-1]"
   ]
  },
  {
   "cell_type": "code",
   "execution_count": 46,
   "metadata": {},
   "outputs": [],
   "source": [
    "def parse_game(game):\n",
    "    cell_list = game.find_all(\"th\") + game.find_all(\"td\")\n",
    "    d = collections.OrderedDict(\n",
    "        number=cell_list[0].a['name'],\n",
    "        one=parse_batter(cell_list[1]),\n",
    "        two=parse_batter(cell_list[2]),\n",
    "        three=parse_batter(cell_list[3]),\n",
    "        four=parse_batter(cell_list[4]),\n",
    "        five=parse_batter(cell_list[5]),\n",
    "        six=parse_batter(cell_list[6]),\n",
    "        seven=parse_batter(cell_list[7]),\n",
    "        eight=parse_batter(cell_list[8]),\n",
    "        nine=parse_batter(cell_list[9]),\n",
    "    )\n",
    "    return d"
   ]
  },
  {
   "cell_type": "code",
   "execution_count": 47,
   "metadata": {},
   "outputs": [],
   "source": [
    "dict_list = [parse_game(game) for game in game_list]"
   ]
  },
  {
   "cell_type": "code",
   "execution_count": 48,
   "metadata": {},
   "outputs": [],
   "source": [
    "game_df = pd.DataFrame(dict_list)"
   ]
  },
  {
   "cell_type": "code",
   "execution_count": 51,
   "metadata": {},
   "outputs": [],
   "source": [
    "game_df[[\n",
    "    'number',\n",
    "    'one',\n",
    "    'two',\n",
    "    'three',\n",
    "    'four',\n",
    "    'five',\n",
    "    'six',\n",
    "    'seven',\n",
    "    'eight',\n",
    "    'nine'\n",
    "]].to_csv(\"./input/cubs_2018_lineup.csv\", index=False, encoding=\"utf-8\")"
   ]
  },
  {
   "cell_type": "markdown",
   "metadata": {},
   "source": [
    "### Baseball Reference WAR archive"
   ]
  },
  {
   "cell_type": "markdown",
   "metadata": {},
   "source": [
    "For pitchers"
   ]
  },
  {
   "cell_type": "code",
   "execution_count": 2,
   "metadata": {},
   "outputs": [
    {
     "name": "stdout",
     "output_type": "stream",
     "text": [
      "  % Total    % Received % Xferd  Average Speed   Time    Time     Time  Current\n",
      "                                 Dload  Upload   Total   Spent    Left  Speed\n",
      "100 11.2M  100 11.2M    0     0   897k      0  0:00:12  0:00:12 --:--:-- 1883k\n"
     ]
    }
   ],
   "source": [
    "!curl -o ./input/war_daily_pitch.txt https://www.baseball-reference.com/data/war_daily_pitch.txt"
   ]
  },
  {
   "cell_type": "markdown",
   "metadata": {},
   "source": [
    "For hitters"
   ]
  },
  {
   "cell_type": "code",
   "execution_count": 4,
   "metadata": {},
   "outputs": [
    {
     "name": "stdout",
     "output_type": "stream",
     "text": [
      "  % Total    % Received % Xferd  Average Speed   Time    Time     Time  Current\n",
      "                                 Dload  Upload   Total   Spent    Left  Speed\n",
      "100 27.8M  100 27.8M    0     0   356k      0  0:01:19  0:01:19 --:--:--  635k\n"
     ]
    }
   ],
   "source": [
    "!curl -o ./input/war_daily_bat.txt https://www.baseball-reference.com/data/war_daily_bat.txt"
   ]
  },
  {
   "cell_type": "markdown",
   "metadata": {},
   "source": [
    "### Baseball Reference pitchers by year"
   ]
  },
  {
   "cell_type": "code",
   "execution_count": 4,
   "metadata": {},
   "outputs": [],
   "source": [
    "def get_standard_player_pitching(year):\n",
    "    url = \"https://www.baseball-reference.com/leagues/MLB/{}-standard-pitching.shtml\".format(year)\n",
    "    r = requests.get(url)\n",
    "    soup = BeautifulSoup(r.text, 'html.parser')\n",
    "    comments = soup.find_all(string=lambda text:isinstance(text, Comment))\n",
    "    table = BeautifulSoup(comments[16], 'html.parser')\n",
    "    players = []\n",
    "    for row in table.find_all(\"tr\")[1:]:\n",
    "        # Skip headers\n",
    "        if 'thead' in row.attrs.get(\"class\"):\n",
    "            continue\n",
    "        # Get all the cells\n",
    "        cells = row.find_all(\"td\")\n",
    "        # If its a footer, skip it\n",
    "        if cells[0]['csk'] == 'ZZZZZZ':\n",
    "            continue\n",
    "        d = collections.OrderedDict((\n",
    "            ('year_ID', year),\n",
    "            ('player_ID', cells[0][\"data-append-csv\"]),\n",
    "            ('name_common', cells[0].a.string),\n",
    "        ))\n",
    "        for stat in cells[1:]:\n",
    "            d[stat['data-stat']] = stat.string\n",
    "        players.append(d)\n",
    "    return players"
   ]
  },
  {
   "cell_type": "code",
   "execution_count": 15,
   "metadata": {},
   "outputs": [],
   "source": [
    "year_list = range(1871, 2019)"
   ]
  },
  {
   "cell_type": "code",
   "execution_count": 7,
   "metadata": {},
   "outputs": [],
   "source": [
    "for year in year_list:\n",
    "    path = \"./input/standard_player_pitching_stats_{}.csv\".format(year)\n",
    "    if os.path.exists(path):\n",
    "        continue\n",
    "    print(\"Downloading {}\".format(year))\n",
    "    df = pd.DataFrame(get_standard_player_pitching(year))\n",
    "    df.to_csv(path, index=False, encoding=\"utf-8\")"
   ]
  },
  {
   "cell_type": "code",
   "execution_count": 11,
   "metadata": {},
   "outputs": [],
   "source": [
    "df_list = []\n",
    "for year in year_list:\n",
    "    path = \"./input/standard_player_pitching_stats_{}.csv\".format(year)\n",
    "    df = pd.read_csv(path)\n",
    "    df_list.append(df)\n",
    "df = pd.concat(df_list, sort=True)\n",
    "df.to_csv(\"./input/standard_player_pitching_stats_all.csv\", index=False, encoding=\"utf-8\")"
   ]
  },
  {
   "cell_type": "markdown",
   "metadata": {},
   "source": [
    "### Baseball reference batters by year"
   ]
  },
  {
   "cell_type": "code",
   "execution_count": 1,
   "metadata": {},
   "outputs": [],
   "source": [
    "def get_standard_player_batting(year):\n",
    "    url = \"https://www.baseball-reference.com/leagues/MLB/{}-standard-batting.shtml\".format(year)\n",
    "    r = requests.get(url)\n",
    "    soup = BeautifulSoup(r.text, 'html.parser')\n",
    "    comments = soup.find_all(string=lambda text:isinstance(text, Comment))\n",
    "    table = BeautifulSoup(comments[16], 'html.parser')\n",
    "    players = []\n",
    "    for row in table.find_all(\"tr\")[1:]:\n",
    "        # Skip headers\n",
    "        if 'thead' in row.attrs.get(\"class\"):\n",
    "            continue\n",
    "        # Get all the cells\n",
    "        cells = row.find_all(\"td\")\n",
    "        # If its a footer, skip it\n",
    "        if cells[0]['csk'] == 'ZZZZZZ':\n",
    "            continue\n",
    "        d = collections.OrderedDict((\n",
    "            ('year_ID', year),\n",
    "            ('player_ID', cells[0][\"data-append-csv\"]),\n",
    "            ('name_common', cells[0].a.string),\n",
    "        ))\n",
    "        for stat in cells[1:]:\n",
    "            d[stat['data-stat']] = stat.string\n",
    "        players.append(d)\n",
    "    return players"
   ]
  },
  {
   "cell_type": "code",
   "execution_count": 7,
   "metadata": {},
   "outputs": [],
   "source": [
    "for year in year_list:\n",
    "    path = \"./input/standard_player_batting_stats_{}.csv\".format(year)\n",
    "    if os.path.exists(path):\n",
    "        continue\n",
    "    print(\"Downloading {}\".format(year))\n",
    "    df = pd.DataFrame(get_standard_player_batting(year))\n",
    "    df.to_csv(path, index=False, encoding=\"utf-8\")"
   ]
  },
  {
   "cell_type": "code",
   "execution_count": 16,
   "metadata": {},
   "outputs": [],
   "source": [
    "df_list = []\n",
    "for year in year_list:\n",
    "    path = \"./input/standard_player_batting_stats_{}.csv\".format(year)\n",
    "    df = pd.read_csv(path)\n",
    "    df_list.append(df)\n",
    "df = pd.concat(df_list, sort=True)\n",
    "df.to_csv(\"./input/standard_player_batting_stats_all.csv\", index=False, encoding=\"utf-8\")"
   ]
  }
 ],
 "metadata": {
  "kernelspec": {
   "display_name": "Python 3",
   "language": "python",
   "name": "python3"
  },
  "language_info": {
   "codemirror_mode": {
    "name": "ipython",
    "version": 3
   },
   "file_extension": ".py",
   "mimetype": "text/x-python",
   "name": "python",
   "nbconvert_exporter": "python",
   "pygments_lexer": "ipython3",
   "version": "3.6.7"
  }
 },
 "nbformat": 4,
 "nbformat_minor": 2
}
