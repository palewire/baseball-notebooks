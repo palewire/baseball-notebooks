{
 "cells": [
  {
   "cell_type": "markdown",
   "metadata": {},
   "source": [
    "# Download\n",
    "\n",
    "Baseball data download routines"
   ]
  },
  {
   "cell_type": "code",
   "execution_count": 3,
   "metadata": {},
   "outputs": [],
   "source": [
    "import os\n",
    "import requests\n",
    "import collections\n",
    "import pandas as pd\n",
    "from bs4 import Comment\n",
    "from bs4 import BeautifulSoup\n",
    "from datetime import date"
   ]
  },
  {
   "cell_type": "markdown",
   "metadata": {},
   "source": [
    "### Baseball Reference WAR archive"
   ]
  },
  {
   "cell_type": "markdown",
   "metadata": {},
   "source": [
    "For pitchers"
   ]
  },
  {
   "cell_type": "code",
   "execution_count": 2,
   "metadata": {},
   "outputs": [
    {
     "name": "stdout",
     "output_type": "stream",
     "text": [
      "  % Total    % Received % Xferd  Average Speed   Time    Time     Time  Current\n",
      "                                 Dload  Upload   Total   Spent    Left  Speed\n",
      "100 11.2M  100 11.2M    0     0   897k      0  0:00:12  0:00:12 --:--:-- 1883k\n"
     ]
    }
   ],
   "source": [
    "!curl -o ./input/war_daily_pitch.txt https://www.baseball-reference.com/data/war_daily_pitch.txt"
   ]
  },
  {
   "cell_type": "markdown",
   "metadata": {},
   "source": [
    "For hitters"
   ]
  },
  {
   "cell_type": "code",
   "execution_count": 4,
   "metadata": {},
   "outputs": [
    {
     "name": "stdout",
     "output_type": "stream",
     "text": [
      "  % Total    % Received % Xferd  Average Speed   Time    Time     Time  Current\n",
      "                                 Dload  Upload   Total   Spent    Left  Speed\n",
      "100 27.8M  100 27.8M    0     0   356k      0  0:01:19  0:01:19 --:--:--  635k\n"
     ]
    }
   ],
   "source": [
    "!curl -o ./input/war_daily_bat.txt https://www.baseball-reference.com/data/war_daily_bat.txt"
   ]
  },
  {
   "cell_type": "markdown",
   "metadata": {},
   "source": [
    "### Baseball Reference pitchers by year"
   ]
  },
  {
   "cell_type": "code",
   "execution_count": 4,
   "metadata": {},
   "outputs": [],
   "source": [
    "def get_standard_player_pitching(year):\n",
    "    url = \"https://www.baseball-reference.com/leagues/MLB/{}-standard-pitching.shtml\".format(year)\n",
    "    r = requests.get(url)\n",
    "    soup = BeautifulSoup(r.text, 'html.parser')\n",
    "    comments = soup.find_all(string=lambda text:isinstance(text, Comment))\n",
    "    table = BeautifulSoup(comments[16], 'html.parser')\n",
    "    players = []\n",
    "    for row in table.find_all(\"tr\")[1:]:\n",
    "        # Skip headers\n",
    "        if 'thead' in row.attrs.get(\"class\"):\n",
    "            continue\n",
    "        # Get all the cells\n",
    "        cells = row.find_all(\"td\")\n",
    "        # If its a footer, skip it\n",
    "        if cells[0]['csk'] == 'ZZZZZZ':\n",
    "            continue\n",
    "        d = collections.OrderedDict((\n",
    "            ('year_ID', year),\n",
    "            ('player_ID', cells[0][\"data-append-csv\"]),\n",
    "            ('name_common', cells[0].a.string),\n",
    "        ))\n",
    "        for stat in cells[1:]:\n",
    "            d[stat['data-stat']] = stat.string\n",
    "        players.append(d)\n",
    "    return players"
   ]
  },
  {
   "cell_type": "code",
   "execution_count": 5,
   "metadata": {},
   "outputs": [],
   "source": [
    "year_list = range(1871, date.today().year+1)"
   ]
  },
  {
   "cell_type": "code",
   "execution_count": 7,
   "metadata": {},
   "outputs": [],
   "source": [
    "for year in year_list:\n",
    "    path = \"./input/standard_player_pitching_stats_{}.csv\".format(year)\n",
    "    if os.path.exists(path):\n",
    "        continue\n",
    "    print(\"Downloading {}\".format(year))\n",
    "    df = pd.DataFrame(get_standard_player_pitching(year))\n",
    "    df.to_csv(path, index=False, encoding=\"utf-8\")"
   ]
  },
  {
   "cell_type": "code",
   "execution_count": 11,
   "metadata": {},
   "outputs": [],
   "source": [
    "df_list = []\n",
    "for year in year_list:\n",
    "    path = \"./input/standard_player_pitching_stats_{}.csv\".format(year)\n",
    "    df = pd.read_csv(path)\n",
    "    df_list.append(df)\n",
    "df = pd.concat(df_list, sort=True)\n",
    "df.to_csv(\"./input/standard_player_pitching_stats_all.csv\", index=False, encoding=\"utf-8\")"
   ]
  }
 ],
 "metadata": {
  "kernelspec": {
   "display_name": "Python 2",
   "language": "python",
   "name": "python2"
  },
  "language_info": {
   "codemirror_mode": {
    "name": "ipython",
    "version": 2
   },
   "file_extension": ".py",
   "mimetype": "text/x-python",
   "name": "python",
   "nbconvert_exporter": "python",
   "pygments_lexer": "ipython2",
   "version": "2.7.12"
  }
 },
 "nbformat": 4,
 "nbformat_minor": 2
}
