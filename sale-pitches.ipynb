{
 "cells": [
  {
   "cell_type": "code",
   "execution_count": 1,
   "metadata": {},
   "outputs": [],
   "source": [
    "import pandas as pd\n",
    "import altair as alt\n",
    "import altair_latimes as lat"
   ]
  },
  {
   "cell_type": "code",
   "execution_count": 2,
   "metadata": {},
   "outputs": [
    {
     "data": {
      "text/plain": [
       "ThemeRegistry.enable('latimes')"
      ]
     },
     "execution_count": 2,
     "metadata": {},
     "output_type": "execute_result"
    }
   ],
   "source": [
    "alt.themes.register('latimes', lat.theme)\n",
    "alt.themes.enable('latimes')"
   ]
  },
  {
   "cell_type": "code",
   "execution_count": 3,
   "metadata": {},
   "outputs": [
    {
     "data": {
      "text/plain": [
       "DataTransformerRegistry.enable('json')"
      ]
     },
     "execution_count": 3,
     "metadata": {},
     "output_type": "execute_result"
    }
   ],
   "source": [
    "alt.data_transformers.enable('json')"
   ]
  },
  {
   "cell_type": "code",
   "execution_count": 4,
   "metadata": {},
   "outputs": [],
   "source": [
    "pitches = pd.read_csv(\"./input/sliders.csv\")"
   ]
  },
  {
   "cell_type": "code",
   "execution_count": 5,
   "metadata": {},
   "outputs": [
    {
     "name": "stdout",
     "output_type": "stream",
     "text": [
      "<class 'pandas.core.frame.DataFrame'>\n",
      "RangeIndex: 40000 entries, 0 to 39999\n",
      "Data columns (total 89 columns):\n",
      "pitch_type                         40000 non-null object\n",
      "game_date                          40000 non-null object\n",
      "release_speed                      39999 non-null float64\n",
      "release_pos_x                      39999 non-null float64\n",
      "release_pos_z                      39999 non-null float64\n",
      "player_name                        40000 non-null object\n",
      "batter                             40000 non-null int64\n",
      "pitcher                            40000 non-null int64\n",
      "events                             10528 non-null object\n",
      "description                        40000 non-null object\n",
      "spin_dir                           0 non-null float64\n",
      "spin_rate_deprecated               0 non-null float64\n",
      "break_angle_deprecated             0 non-null float64\n",
      "break_length_deprecated            0 non-null float64\n",
      "zone                               39999 non-null float64\n",
      "des                                10528 non-null object\n",
      "game_type                          40000 non-null object\n",
      "stand                              40000 non-null object\n",
      "p_throws                           40000 non-null object\n",
      "home_team                          40000 non-null object\n",
      "away_team                          40000 non-null object\n",
      "type                               40000 non-null object\n",
      "hit_location                       9505 non-null float64\n",
      "bb_type                            6512 non-null object\n",
      "balls                              40000 non-null int64\n",
      "strikes                            40000 non-null int64\n",
      "game_year                          40000 non-null int64\n",
      "pfx_x                              39999 non-null float64\n",
      "pfx_z                              39999 non-null float64\n",
      "plate_x                            39999 non-null float64\n",
      "plate_z                            39999 non-null float64\n",
      "on_3b                              4360 non-null float64\n",
      "on_2b                              8411 non-null float64\n",
      "on_1b                              12474 non-null float64\n",
      "outs_when_up                       40000 non-null int64\n",
      "inning                             40000 non-null int64\n",
      "inning_topbot                      40000 non-null object\n",
      "hc_x                               6485 non-null float64\n",
      "hc_y                               6485 non-null float64\n",
      "tfs_deprecated                     0 non-null float64\n",
      "tfs_zulu_deprecated                0 non-null float64\n",
      "fielder_2                          40000 non-null int64\n",
      "umpire                             0 non-null float64\n",
      "sv_id                              28115 non-null object\n",
      "vx0                                39999 non-null float64\n",
      "vy0                                39999 non-null float64\n",
      "vz0                                39999 non-null float64\n",
      "ax                                 39999 non-null float64\n",
      "ay                                 39999 non-null float64\n",
      "az                                 39999 non-null float64\n",
      "sz_top                             40000 non-null float64\n",
      "sz_bot                             40000 non-null float64\n",
      "hit_distance_sc                    9371 non-null float64\n",
      "launch_speed                       9963 non-null float64\n",
      "launch_angle                       9963 non-null float64\n",
      "effective_speed                    39890 non-null float64\n",
      "release_spin_rate                  37129 non-null float64\n",
      "release_extension                  39999 non-null float64\n",
      "game_pk                            40000 non-null int64\n",
      "pitcher.1                          40000 non-null int64\n",
      "fielder_2.1                        40000 non-null int64\n",
      "fielder_3                          40000 non-null int64\n",
      "fielder_4                          40000 non-null int64\n",
      "fielder_5                          40000 non-null int64\n",
      "fielder_6                          40000 non-null int64\n",
      "fielder_7                          40000 non-null int64\n",
      "fielder_8                          40000 non-null int64\n",
      "fielder_9                          40000 non-null int64\n",
      "release_pos_y                      39999 non-null float64\n",
      "estimated_ba_using_speedangle      6512 non-null float64\n",
      "estimated_woba_using_speedangle    6512 non-null float64\n",
      "woba_value                         10528 non-null float64\n",
      "woba_denom                         10528 non-null float64\n",
      "babip_value                        10528 non-null float64\n",
      "iso_value                          10528 non-null float64\n",
      "launch_speed_angle                 6512 non-null float64\n",
      "at_bat_number                      40000 non-null int64\n",
      "pitch_number                       40000 non-null int64\n",
      "pitch_name                         40000 non-null object\n",
      "home_score                         40000 non-null int64\n",
      "away_score                         40000 non-null int64\n",
      "bat_score                          40000 non-null int64\n",
      "fld_score                          40000 non-null int64\n",
      "post_away_score                    40000 non-null int64\n",
      "post_home_score                    40000 non-null int64\n",
      "post_bat_score                     40000 non-null int64\n",
      "post_fld_score                     40000 non-null int64\n",
      "if_fielding_alignment              39857 non-null object\n",
      "of_fielding_alignment              39857 non-null object\n",
      "dtypes: float64(43), int64(28), object(18)\n",
      "memory usage: 27.2+ MB\n"
     ]
    }
   ],
   "source": [
    "pitches.info()"
   ]
  },
  {
   "cell_type": "code",
   "execution_count": 6,
   "metadata": {},
   "outputs": [
    {
     "data": {
      "text/plain": [
       "count    39999.000000\n",
       "mean        84.590562\n",
       "std          3.513020\n",
       "min         60.200000\n",
       "25%         82.200000\n",
       "50%         84.700000\n",
       "75%         87.100000\n",
       "max         97.700000\n",
       "Name: release_speed, dtype: float64"
      ]
     },
     "execution_count": 6,
     "metadata": {},
     "output_type": "execute_result"
    }
   ],
   "source": [
    "pitches.release_speed.describe()"
   ]
  },
  {
   "cell_type": "code",
   "execution_count": 7,
   "metadata": {},
   "outputs": [
    {
     "data": {
      "text/plain": [
       "count    37129.000000\n",
       "mean      2399.585365\n",
       "std        268.335989\n",
       "min        433.000000\n",
       "25%       2242.000000\n",
       "50%       2394.000000\n",
       "75%       2559.000000\n",
       "max       3500.000000\n",
       "Name: release_spin_rate, dtype: float64"
      ]
     },
     "execution_count": 7,
     "metadata": {},
     "output_type": "execute_result"
    }
   ],
   "source": [
    "pitches.release_spin_rate.describe()"
   ]
  },
  {
   "cell_type": "code",
   "execution_count": 8,
   "metadata": {},
   "outputs": [],
   "source": [
    "pitches['player_name'] = pitches.player_name.apply(\n",
    "    lambda x: x if x == 'Chris Sale' else 'Everybody else'\n",
    ")"
   ]
  },
  {
   "cell_type": "code",
   "execution_count": 9,
   "metadata": {},
   "outputs": [],
   "source": [
    "analysis_set = pitches#[(pitches.release_speed > 65) & (pitches.release_spin_rate > 1500)]"
   ]
  },
  {
   "cell_type": "code",
   "execution_count": null,
   "metadata": {},
   "outputs": [],
   "source": [
    "dots1 = alt.Chart(analysis_set[analysis_set.player_name != 'Chris Sale']).mark_circle(clip=True).encode(\n",
    "    x=alt.X(\n",
    "        \"release_speed:O\",\n",
    "        title=\"Velocity (MPH)\",\n",
    "        axis=alt.Axis(values=[65, 70, 75, 80, 85, 90])\n",
    "    ),\n",
    "    y=alt.Y(\n",
    "        \"release_spin_rate:Q\",\n",
    "        title=\"Spin rate (RPM)\",\n",
    "        scale=alt.Scale(zero=False, domain=[1500, 3600])\n",
    "    ),\n",
    "    color=alt.Color(\n",
    "        \"player_name:N\",\n",
    "        title=\"Player\",\n",
    "        scale=alt.Scale(\n",
    "            domain=['Chris Sale', 'Everybody else'],\n",
    "            range=[lat.palette['highlight'], lat.palette['default']]\n",
    "        )\n",
    "    )\n",
    ")\n",
    "\n",
    "dots2 = alt.Chart(analysis_set[analysis_set.player_name == 'Chris Sale']).mark_circle(clip=True).encode(\n",
    "    x=alt.X(\n",
    "        \"release_speed:O\",\n",
    "        title=\"Velocity (MPH)\",\n",
    "        axis=alt.Axis(values=[65, 70, 75, 80, 85, 90])\n",
    "    ),\n",
    "    y=alt.Y(\n",
    "        \"release_spin_rate:Q\",\n",
    "        title=\"Spin rate (RPM)\",\n",
    "        scale=alt.Scale(zero=False, domain=[1500, 3600])\n",
    "    ),\n",
    "    color=alt.Color(\n",
    "        \"player_name:N\",\n",
    "        title=\"Player\",\n",
    "        scale=alt.Scale(\n",
    "            domain=['Chris Sale', 'Everybody else'],\n",
    "            range=[lat.palette['highlight'], lat.palette['default']]\n",
    "        )\n",
    "    )\n",
    ")\n",
    "\n",
    "(dots1 + dots2).properties(\n",
    "    title=\"Every slider in the StatCast era\",\n",
    "    width=800,\n",
    ")"
   ]
  }
 ],
 "metadata": {
  "kernelspec": {
   "display_name": "Python 3",
   "language": "python",
   "name": "python3"
  },
  "language_info": {
   "codemirror_mode": {
    "name": "ipython",
    "version": 3
   },
   "file_extension": ".py",
   "mimetype": "text/x-python",
   "name": "python",
   "nbconvert_exporter": "python",
   "pygments_lexer": "ipython3",
   "version": "3.6.7"
  }
 },
 "nbformat": 4,
 "nbformat_minor": 2
}
