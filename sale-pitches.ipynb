{
 "cells": [
  {
   "cell_type": "code",
   "execution_count": 39,
   "metadata": {},
   "outputs": [],
   "source": [
    "import pandas as pd\n",
    "import altair as alt\n",
    "import altair_latimes as lat"
   ]
  },
  {
   "cell_type": "code",
   "execution_count": 40,
   "metadata": {},
   "outputs": [
    {
     "data": {
      "text/plain": [
       "ThemeRegistry.enable('latimes')"
      ]
     },
     "execution_count": 40,
     "metadata": {},
     "output_type": "execute_result"
    }
   ],
   "source": [
    "alt.themes.register('latimes', lat.theme)\n",
    "alt.themes.enable('latimes')"
   ]
  },
  {
   "cell_type": "code",
   "execution_count": 41,
   "metadata": {},
   "outputs": [
    {
     "data": {
      "text/plain": [
       "DataTransformerRegistry.enable('json')"
      ]
     },
     "execution_count": 41,
     "metadata": {},
     "output_type": "execute_result"
    }
   ],
   "source": [
    "alt.data_transformers.enable('json')"
   ]
  },
  {
   "cell_type": "code",
   "execution_count": 42,
   "metadata": {},
   "outputs": [],
   "source": [
    "pitches = pd.read_csv(\"./input/sliders.csv\")"
   ]
  },
  {
   "cell_type": "code",
   "execution_count": 43,
   "metadata": {},
   "outputs": [
    {
     "name": "stdout",
     "output_type": "stream",
     "text": [
      "<class 'pandas.core.frame.DataFrame'>\n",
      "RangeIndex: 40000 entries, 0 to 39999\n",
      "Data columns (total 89 columns):\n",
      "pitch_type                         40000 non-null object\n",
      "game_date                          40000 non-null object\n",
      "release_speed                      39999 non-null float64\n",
      "release_pos_x                      39999 non-null float64\n",
      "release_pos_z                      39999 non-null float64\n",
      "player_name                        40000 non-null object\n",
      "batter                             40000 non-null int64\n",
      "pitcher                            40000 non-null int64\n",
      "events                             10528 non-null object\n",
      "description                        40000 non-null object\n",
      "spin_dir                           0 non-null float64\n",
      "spin_rate_deprecated               0 non-null float64\n",
      "break_angle_deprecated             0 non-null float64\n",
      "break_length_deprecated            0 non-null float64\n",
      "zone                               39999 non-null float64\n",
      "des                                10528 non-null object\n",
      "game_type                          40000 non-null object\n",
      "stand                              40000 non-null object\n",
      "p_throws                           40000 non-null object\n",
      "home_team                          40000 non-null object\n",
      "away_team                          40000 non-null object\n",
      "type                               40000 non-null object\n",
      "hit_location                       9505 non-null float64\n",
      "bb_type                            6512 non-null object\n",
      "balls                              40000 non-null int64\n",
      "strikes                            40000 non-null int64\n",
      "game_year                          40000 non-null int64\n",
      "pfx_x                              39999 non-null float64\n",
      "pfx_z                              39999 non-null float64\n",
      "plate_x                            39999 non-null float64\n",
      "plate_z                            39999 non-null float64\n",
      "on_3b                              4360 non-null float64\n",
      "on_2b                              8411 non-null float64\n",
      "on_1b                              12474 non-null float64\n",
      "outs_when_up                       40000 non-null int64\n",
      "inning                             40000 non-null int64\n",
      "inning_topbot                      40000 non-null object\n",
      "hc_x                               6485 non-null float64\n",
      "hc_y                               6485 non-null float64\n",
      "tfs_deprecated                     0 non-null float64\n",
      "tfs_zulu_deprecated                0 non-null float64\n",
      "fielder_2                          40000 non-null int64\n",
      "umpire                             0 non-null float64\n",
      "sv_id                              28115 non-null object\n",
      "vx0                                39999 non-null float64\n",
      "vy0                                39999 non-null float64\n",
      "vz0                                39999 non-null float64\n",
      "ax                                 39999 non-null float64\n",
      "ay                                 39999 non-null float64\n",
      "az                                 39999 non-null float64\n",
      "sz_top                             40000 non-null float64\n",
      "sz_bot                             40000 non-null float64\n",
      "hit_distance_sc                    9371 non-null float64\n",
      "launch_speed                       9963 non-null float64\n",
      "launch_angle                       9963 non-null float64\n",
      "effective_speed                    39890 non-null float64\n",
      "release_spin_rate                  37129 non-null float64\n",
      "release_extension                  39999 non-null float64\n",
      "game_pk                            40000 non-null int64\n",
      "pitcher.1                          40000 non-null int64\n",
      "fielder_2.1                        40000 non-null int64\n",
      "fielder_3                          40000 non-null int64\n",
      "fielder_4                          40000 non-null int64\n",
      "fielder_5                          40000 non-null int64\n",
      "fielder_6                          40000 non-null int64\n",
      "fielder_7                          40000 non-null int64\n",
      "fielder_8                          40000 non-null int64\n",
      "fielder_9                          40000 non-null int64\n",
      "release_pos_y                      39999 non-null float64\n",
      "estimated_ba_using_speedangle      6512 non-null float64\n",
      "estimated_woba_using_speedangle    6512 non-null float64\n",
      "woba_value                         10528 non-null float64\n",
      "woba_denom                         10528 non-null float64\n",
      "babip_value                        10528 non-null float64\n",
      "iso_value                          10528 non-null float64\n",
      "launch_speed_angle                 6512 non-null float64\n",
      "at_bat_number                      40000 non-null int64\n",
      "pitch_number                       40000 non-null int64\n",
      "pitch_name                         40000 non-null object\n",
      "home_score                         40000 non-null int64\n",
      "away_score                         40000 non-null int64\n",
      "bat_score                          40000 non-null int64\n",
      "fld_score                          40000 non-null int64\n",
      "post_away_score                    40000 non-null int64\n",
      "post_home_score                    40000 non-null int64\n",
      "post_bat_score                     40000 non-null int64\n",
      "post_fld_score                     40000 non-null int64\n",
      "if_fielding_alignment              39857 non-null object\n",
      "of_fielding_alignment              39857 non-null object\n",
      "dtypes: float64(43), int64(28), object(18)\n",
      "memory usage: 27.2+ MB\n"
     ]
    }
   ],
   "source": [
    "pitches.info()"
   ]
  },
  {
   "cell_type": "code",
   "execution_count": 44,
   "metadata": {},
   "outputs": [],
   "source": [
    "pitches['date'] = pd.to_datetime(pitches['game_date'])"
   ]
  },
  {
   "cell_type": "code",
   "execution_count": 45,
   "metadata": {},
   "outputs": [],
   "source": [
    "pitches['season'] = pitches['date'].dt.year"
   ]
  },
  {
   "cell_type": "code",
   "execution_count": 47,
   "metadata": {},
   "outputs": [
    {
     "data": {
      "application/vnd.vegalite.v2+json": {
       "$schema": "https://vega.github.io/schema/vega-lite/v2.6.0.json",
       "config": {
        "arc": {
         "fill": "#82c6df"
        },
        "area": {
         "fill": "#82c6df"
        },
        "axis": {
         "labelFont": "Benton Gothic, sans",
         "labelFontSize": 11.5,
         "labelFontWeight": "normal",
         "titleFont": "Benton Gothic Bold, sans",
         "titleFontSize": 13,
         "titleFontWeight": "normal"
        },
        "axisX": {
         "labelAngle": 0,
         "labelPadding": 4,
         "tickSize": 3
        },
        "axisY": {
         "labelBaseline": "middle",
         "maxExtent": 45,
         "minExtent": 45,
         "tickSize": 2,
         "titleAlign": "left",
         "titleAngle": 0,
         "titleX": -45,
         "titleY": -11
        },
        "background": "#ffffff",
        "bar": {
         "fill": "#82c6df"
        },
        "legend": {
         "labelFont": "Benton Gothic, sans",
         "labelFontSize": 11.5,
         "symbolType": "square",
         "titleFont": "Benton Gothic Bold, sans",
         "titleFontSize": 13,
         "titleFontWeight": "normal"
        },
        "line": {
         "stroke": "#82c6df",
         "strokeWidth": 3
        },
        "path": {
         "stroke": "#82c6df"
        },
        "point": {
         "stroke": "#82c6df"
        },
        "range": {
         "category": [
          "#3580b1",
          "#ec8431",
          "#ab7fb4",
          "#c89d29",
          "#adc839",
          "#829eb1"
         ],
         "diverging": [
          "#e68a4f",
          "#f4bb6a",
          "#f9e39c",
          "#dadfe2",
          "#a6b7c6",
          "#849eae"
         ],
         "heatmap": [
          "#fbf2c7",
          "#f9e39c",
          "#f8d36e",
          "#f4bb6a",
          "#e68a4f",
          "#d15a40",
          "#ab4232"
         ],
         "ordinal": [
          "#fbf2c7",
          "#f9e39c",
          "#f8d36e",
          "#f4bb6a",
          "#e68a4f",
          "#d15a40",
          "#ab4232"
         ],
         "ramp": [
          "#fbf2c7",
          "#f9e39c",
          "#f8d36e",
          "#f4bb6a",
          "#e68a4f",
          "#d15a40",
          "#ab4232"
         ]
        },
        "rect": {
         "fill": "#82c6df"
        },
        "shape": {
         "stroke": "#82c6df"
        },
        "symbol": {
         "fill": "#82c6df",
         "size": 30
        },
        "title": {
         "anchor": "start",
         "font": "Benton Gothic Bold, sans",
         "fontColor": "#000000",
         "fontSize": 22,
         "fontWeight": "normal"
        },
        "view": {
         "height": 450,
         "width": 800
        }
       },
       "data": {
        "format": {
         "type": "json"
        },
        "url": "altair-data-e612b7a6969ece78e1884a1e4bc87683.json"
       },
       "encoding": {
        "x": {
         "field": "season",
         "title": "Season",
         "type": "ordinal"
        },
        "y": {
         "field": "release_spin_rate",
         "scale": {
          "zero": false
         },
         "title": "Spin rate (RPM)",
         "type": "quantitative"
        }
       },
       "mark": "circle",
       "title": "Every slider in the StatCast era",
       "width": 600
      },
      "image/png": "[encoded data removed]",
      "text/plain": [
       "<VegaLite 2 object>\n",
       "\n",
       "If you see this message, it means the renderer has not been properly enabled\n",
       "for the frontend that you are using. For more information, see\n",
       "https://altair-viz.github.io/user_guide/troubleshooting.html\n"
      ]
     },
     "execution_count": 47,
     "metadata": {},
     "output_type": "execute_result"
    }
   ],
   "source": [
    "alt.Chart(pitches).mark_circle().encode(\n",
    "    x=alt.X(\n",
    "        \"season:O\",\n",
    "        title=\"Season\",\n",
    "    ),\n",
    "    y=alt.Y(\n",
    "        \"release_spin_rate:Q\",\n",
    "        title=\"Spin rate (RPM)\",\n",
    "        scale=alt.Scale(zero=False)\n",
    "    ),\n",
    ").properties(\n",
    "    title=\"Every slider in the StatCast era\",\n",
    "    width=600,\n",
    ")"
   ]
  },
  {
   "cell_type": "code",
   "execution_count": 13,
   "metadata": {},
   "outputs": [],
   "source": [
    "pitcher_stats = pitches.groupby(\"player_name\").agg(dict(\n",
    "    player_name=\"size\",\n",
    "    release_speed=\"median\",\n",
    "    release_spin_rate=\"median\"\n",
    ")).rename(columns={\"player_name\": \"pitch_count\"})"
   ]
  },
  {
   "cell_type": "code",
   "execution_count": 15,
   "metadata": {},
   "outputs": [],
   "source": [
    "qualified_pitchers = pitcher_stats[pitcher_stats.pitch_count > 100].reset_index()"
   ]
  },
  {
   "cell_type": "code",
   "execution_count": 17,
   "metadata": {},
   "outputs": [
    {
     "data": {
      "text/html": [
       "<div>\n",
       "<style scoped>\n",
       "    .dataframe tbody tr th:only-of-type {\n",
       "        vertical-align: middle;\n",
       "    }\n",
       "\n",
       "    .dataframe tbody tr th {\n",
       "        vertical-align: top;\n",
       "    }\n",
       "\n",
       "    .dataframe thead th {\n",
       "        text-align: right;\n",
       "    }\n",
       "</style>\n",
       "<table border=\"1\" class=\"dataframe\">\n",
       "  <thead>\n",
       "    <tr style=\"text-align: right;\">\n",
       "      <th></th>\n",
       "      <th>player_name</th>\n",
       "      <th>pitch_count</th>\n",
       "      <th>release_speed</th>\n",
       "      <th>release_spin_rate</th>\n",
       "    </tr>\n",
       "  </thead>\n",
       "  <tbody>\n",
       "    <tr>\n",
       "      <th>51</th>\n",
       "      <td>Jacob deGrom</td>\n",
       "      <td>261</td>\n",
       "      <td>91.9</td>\n",
       "      <td>2506.0</td>\n",
       "    </tr>\n",
       "    <tr>\n",
       "      <th>149</th>\n",
       "      <td>Zack Wheeler</td>\n",
       "      <td>156</td>\n",
       "      <td>91.6</td>\n",
       "      <td>2359.5</td>\n",
       "    </tr>\n",
       "    <tr>\n",
       "      <th>103</th>\n",
       "      <td>Noah Syndergaard</td>\n",
       "      <td>229</td>\n",
       "      <td>91.6</td>\n",
       "      <td>2086.0</td>\n",
       "    </tr>\n",
       "    <tr>\n",
       "      <th>92</th>\n",
       "      <td>Michael Lorenzen</td>\n",
       "      <td>134</td>\n",
       "      <td>91.4</td>\n",
       "      <td>2561.0</td>\n",
       "    </tr>\n",
       "    <tr>\n",
       "      <th>53</th>\n",
       "      <td>Jake Arrieta</td>\n",
       "      <td>229</td>\n",
       "      <td>90.0</td>\n",
       "      <td>2448.5</td>\n",
       "    </tr>\n",
       "  </tbody>\n",
       "</table>\n",
       "</div>"
      ],
      "text/plain": [
       "          player_name  pitch_count  release_speed  release_spin_rate\n",
       "51       Jacob deGrom          261           91.9             2506.0\n",
       "149      Zack Wheeler          156           91.6             2359.5\n",
       "103  Noah Syndergaard          229           91.6             2086.0\n",
       "92   Michael Lorenzen          134           91.4             2561.0\n",
       "53       Jake Arrieta          229           90.0             2448.5"
      ]
     },
     "execution_count": 17,
     "metadata": {},
     "output_type": "execute_result"
    }
   ],
   "source": [
    "qualified_pitchers.sort_values(\"release_speed\", ascending=False).head()"
   ]
  },
  {
   "cell_type": "code",
   "execution_count": 18,
   "metadata": {},
   "outputs": [
    {
     "data": {
      "text/html": [
       "<div>\n",
       "<style scoped>\n",
       "    .dataframe tbody tr th:only-of-type {\n",
       "        vertical-align: middle;\n",
       "    }\n",
       "\n",
       "    .dataframe tbody tr th {\n",
       "        vertical-align: top;\n",
       "    }\n",
       "\n",
       "    .dataframe thead th {\n",
       "        text-align: right;\n",
       "    }\n",
       "</style>\n",
       "<table border=\"1\" class=\"dataframe\">\n",
       "  <thead>\n",
       "    <tr style=\"text-align: right;\">\n",
       "      <th></th>\n",
       "      <th>player_name</th>\n",
       "      <th>pitch_count</th>\n",
       "      <th>release_speed</th>\n",
       "      <th>release_spin_rate</th>\n",
       "    </tr>\n",
       "  </thead>\n",
       "  <tbody>\n",
       "    <tr>\n",
       "      <th>93</th>\n",
       "      <td>Miguel Castro</td>\n",
       "      <td>131</td>\n",
       "      <td>84.4</td>\n",
       "      <td>2967.0</td>\n",
       "    </tr>\n",
       "    <tr>\n",
       "      <th>0</th>\n",
       "      <td>Adam Morgan</td>\n",
       "      <td>119</td>\n",
       "      <td>80.3</td>\n",
       "      <td>2908.0</td>\n",
       "    </tr>\n",
       "    <tr>\n",
       "      <th>140</th>\n",
       "      <td>Walker Buehler</td>\n",
       "      <td>118</td>\n",
       "      <td>85.1</td>\n",
       "      <td>2877.0</td>\n",
       "    </tr>\n",
       "    <tr>\n",
       "      <th>28</th>\n",
       "      <td>Collin McHugh</td>\n",
       "      <td>161</td>\n",
       "      <td>79.1</td>\n",
       "      <td>2869.0</td>\n",
       "    </tr>\n",
       "    <tr>\n",
       "      <th>23</th>\n",
       "      <td>Chaz Roe</td>\n",
       "      <td>186</td>\n",
       "      <td>80.6</td>\n",
       "      <td>2862.5</td>\n",
       "    </tr>\n",
       "  </tbody>\n",
       "</table>\n",
       "</div>"
      ],
      "text/plain": [
       "        player_name  pitch_count  release_speed  release_spin_rate\n",
       "93    Miguel Castro          131           84.4             2967.0\n",
       "0       Adam Morgan          119           80.3             2908.0\n",
       "140  Walker Buehler          118           85.1             2877.0\n",
       "28    Collin McHugh          161           79.1             2869.0\n",
       "23         Chaz Roe          186           80.6             2862.5"
      ]
     },
     "execution_count": 18,
     "metadata": {},
     "output_type": "execute_result"
    }
   ],
   "source": [
    "qualified_pitchers.sort_values(\"release_spin_rate\", ascending=False).head()"
   ]
  },
  {
   "cell_type": "code",
   "execution_count": 35,
   "metadata": {},
   "outputs": [
    {
     "data": {
      "application/vnd.vegalite.v2+json": {
       "$schema": "https://vega.github.io/schema/vega-lite/v2.6.0.json",
       "config": {
        "arc": {
         "fill": "#82c6df"
        },
        "area": {
         "fill": "#82c6df"
        },
        "axis": {
         "labelFont": "Benton Gothic, sans",
         "labelFontSize": 11.5,
         "labelFontWeight": "normal",
         "titleFont": "Benton Gothic Bold, sans",
         "titleFontSize": 13,
         "titleFontWeight": "normal"
        },
        "axisX": {
         "labelAngle": 0,
         "labelPadding": 4,
         "tickSize": 3
        },
        "axisY": {
         "labelBaseline": "middle",
         "maxExtent": 45,
         "minExtent": 45,
         "tickSize": 2,
         "titleAlign": "left",
         "titleAngle": 0,
         "titleX": -45,
         "titleY": -11
        },
        "background": "#ffffff",
        "bar": {
         "fill": "#82c6df"
        },
        "legend": {
         "labelFont": "Benton Gothic, sans",
         "labelFontSize": 11.5,
         "symbolType": "square",
         "titleFont": "Benton Gothic Bold, sans",
         "titleFontSize": 13,
         "titleFontWeight": "normal"
        },
        "line": {
         "stroke": "#82c6df",
         "strokeWidth": 3
        },
        "path": {
         "stroke": "#82c6df"
        },
        "point": {
         "stroke": "#82c6df"
        },
        "range": {
         "category": [
          "#3580b1",
          "#ec8431",
          "#ab7fb4",
          "#c89d29",
          "#adc839",
          "#829eb1"
         ],
         "diverging": [
          "#e68a4f",
          "#f4bb6a",
          "#f9e39c",
          "#dadfe2",
          "#a6b7c6",
          "#849eae"
         ],
         "heatmap": [
          "#fbf2c7",
          "#f9e39c",
          "#f8d36e",
          "#f4bb6a",
          "#e68a4f",
          "#d15a40",
          "#ab4232"
         ],
         "ordinal": [
          "#fbf2c7",
          "#f9e39c",
          "#f8d36e",
          "#f4bb6a",
          "#e68a4f",
          "#d15a40",
          "#ab4232"
         ],
         "ramp": [
          "#fbf2c7",
          "#f9e39c",
          "#f8d36e",
          "#f4bb6a",
          "#e68a4f",
          "#d15a40",
          "#ab4232"
         ]
        },
        "rect": {
         "fill": "#82c6df"
        },
        "shape": {
         "stroke": "#82c6df"
        },
        "symbol": {
         "fill": "#82c6df",
         "size": 30
        },
        "title": {
         "anchor": "start",
         "font": "Benton Gothic Bold, sans",
         "fontColor": "#000000",
         "fontSize": 22,
         "fontWeight": "normal"
        },
        "view": {
         "height": 450,
         "width": 800
        }
       },
       "data": {
        "format": {
         "type": "json"
        },
        "url": "altair-data-dede29cbe389ef1b008e10dd49336ac5.json"
       },
       "encoding": {
        "size": {
         "field": "pitch_count",
         "type": "quantitative"
        },
        "tooltip": [
         {
          "field": "player_name",
          "type": "nominal"
         },
         {
          "field": "pitch_count",
          "type": "quantitative"
         },
         {
          "field": "release_speed",
          "type": "quantitative"
         },
         {
          "field": "release_spin_rate",
          "type": "quantitative"
         }
        ],
        "x": {
         "field": "release_speed",
         "title": "Velocity (MPH)",
         "type": "ordinal"
        },
        "y": {
         "field": "release_spin_rate",
         "scale": {
          "zero": false
         },
         "title": "Spin rate (RPM)",
         "type": "quantitative"
        }
       },
       "mark": {
        "clip": true,
        "type": "circle"
       },
       "title": "Every slider in the StatCast era",
       "width": 600
      },
      "image/png": "[encoded data removed]",
      "text/plain": [
       "<VegaLite 2 object>\n",
       "\n",
       "If you see this message, it means the renderer has not been properly enabled\n",
       "for the frontend that you are using. For more information, see\n",
       "https://altair-viz.github.io/user_guide/troubleshooting.html\n"
      ]
     },
     "execution_count": 35,
     "metadata": {},
     "output_type": "execute_result"
    }
   ],
   "source": [
    "alt.Chart(qualified_pitchers).mark_circle(clip=True).encode(\n",
    "    x=alt.X(\n",
    "        \"release_speed:O\",\n",
    "        title=\"Velocity (MPH)\",\n",
    "    ),\n",
    "    y=alt.Y(\n",
    "        \"release_spin_rate:Q\",\n",
    "        title=\"Spin rate (RPM)\",\n",
    "        scale=alt.Scale(zero=False)\n",
    "    ),\n",
    "    size=\"pitch_count\",\n",
    "    tooltip=[\"player_name\", \"pitch_count\", \"release_speed\", \"release_spin_rate\"]\n",
    ").properties(\n",
    "    title=\"Every slider in the StatCast era\",\n",
    "    width=600,\n",
    ")"
   ]
  },
  {
   "cell_type": "code",
   "execution_count": null,
   "metadata": {},
   "outputs": [],
   "source": []
  }
 ],
 "metadata": {
  "kernelspec": {
   "display_name": "Python 3",
   "language": "python",
   "name": "python3"
  },
  "language_info": {
   "codemirror_mode": {
    "name": "ipython",
    "version": 3
   },
   "file_extension": ".py",
   "mimetype": "text/x-python",
   "name": "python",
   "nbconvert_exporter": "python",
   "pygments_lexer": "ipython3",
   "version": "3.6.7"
  }
 },
 "nbformat": 4,
 "nbformat_minor": 2
}
