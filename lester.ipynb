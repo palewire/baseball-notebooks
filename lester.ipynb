{
 "cells": [
  {
   "cell_type": "code",
   "execution_count": 1,
   "metadata": {},
   "outputs": [],
   "source": [
    "import pandas as pd\n",
    "import altair as alt"
   ]
  },
  {
   "cell_type": "code",
   "execution_count": 2,
   "metadata": {},
   "outputs": [
    {
     "data": {
      "text/plain": [
       "DataTransformerRegistry.enable('json')"
      ]
     },
     "execution_count": 2,
     "metadata": {},
     "output_type": "execute_result"
    }
   ],
   "source": [
    "alt.themes.enable('opaque')\n",
    "alt.data_transformers.enable('json')"
   ]
  },
  {
   "cell_type": "code",
   "execution_count": 3,
   "metadata": {},
   "outputs": [],
   "source": [
    "df = pd.read_csv(\"./input/war_daily_pitch.txt\")"
   ]
  },
  {
   "cell_type": "code",
   "execution_count": 4,
   "metadata": {},
   "outputs": [
    {
     "data": {
      "text/html": [
       "<div>\n",
       "<style scoped>\n",
       "    .dataframe tbody tr th:only-of-type {\n",
       "        vertical-align: middle;\n",
       "    }\n",
       "\n",
       "    .dataframe tbody tr th {\n",
       "        vertical-align: top;\n",
       "    }\n",
       "\n",
       "    .dataframe thead th {\n",
       "        text-align: right;\n",
       "    }\n",
       "</style>\n",
       "<table border=\"1\" class=\"dataframe\">\n",
       "  <thead>\n",
       "    <tr style=\"text-align: right;\">\n",
       "      <th></th>\n",
       "      <th>name_common</th>\n",
       "      <th>age</th>\n",
       "      <th>mlb_ID</th>\n",
       "      <th>player_ID</th>\n",
       "      <th>year_ID</th>\n",
       "      <th>team_ID</th>\n",
       "      <th>stint_ID</th>\n",
       "      <th>lg_ID</th>\n",
       "      <th>G</th>\n",
       "      <th>GS</th>\n",
       "      <th>...</th>\n",
       "      <th>pyth_exponent</th>\n",
       "      <th>waa_win_perc</th>\n",
       "      <th>WAA</th>\n",
       "      <th>WAA_adj</th>\n",
       "      <th>oppRpG_rep</th>\n",
       "      <th>pyth_exponent_rep</th>\n",
       "      <th>waa_win_perc_rep</th>\n",
       "      <th>WAR_rep</th>\n",
       "      <th>ERA_plus</th>\n",
       "      <th>ER_lg</th>\n",
       "    </tr>\n",
       "  </thead>\n",
       "  <tbody>\n",
       "    <tr>\n",
       "      <th>0</th>\n",
       "      <td>David Aardsma</td>\n",
       "      <td>22.0</td>\n",
       "      <td>430911.0</td>\n",
       "      <td>aardsda01</td>\n",
       "      <td>2004</td>\n",
       "      <td>SFG</td>\n",
       "      <td>1</td>\n",
       "      <td>NL</td>\n",
       "      <td>11</td>\n",
       "      <td>0</td>\n",
       "      <td>...</td>\n",
       "      <td>1.902</td>\n",
       "      <td>0.4803</td>\n",
       "      <td>-0.2167</td>\n",
       "      <td>-0.0299</td>\n",
       "      <td>4.75633</td>\n",
       "      <td>1.895</td>\n",
       "      <td>0.4914</td>\n",
       "      <td>0.0942</td>\n",
       "      <td>66.675000</td>\n",
       "      <td>5.334</td>\n",
       "    </tr>\n",
       "    <tr>\n",
       "      <th>1</th>\n",
       "      <td>David Aardsma</td>\n",
       "      <td>24.0</td>\n",
       "      <td>430911.0</td>\n",
       "      <td>aardsda01</td>\n",
       "      <td>2006</td>\n",
       "      <td>CHC</td>\n",
       "      <td>1</td>\n",
       "      <td>NL</td>\n",
       "      <td>45</td>\n",
       "      <td>0</td>\n",
       "      <td>...</td>\n",
       "      <td>1.909</td>\n",
       "      <td>0.5061</td>\n",
       "      <td>0.2745</td>\n",
       "      <td>-0.1316</td>\n",
       "      <td>4.97303</td>\n",
       "      <td>1.919</td>\n",
       "      <td>0.4896</td>\n",
       "      <td>0.4682</td>\n",
       "      <td>114.295833</td>\n",
       "      <td>27.431</td>\n",
       "    </tr>\n",
       "    <tr>\n",
       "      <th>2</th>\n",
       "      <td>David Aardsma</td>\n",
       "      <td>25.0</td>\n",
       "      <td>430911.0</td>\n",
       "      <td>aardsda01</td>\n",
       "      <td>2007</td>\n",
       "      <td>CHW</td>\n",
       "      <td>1</td>\n",
       "      <td>AL</td>\n",
       "      <td>25</td>\n",
       "      <td>0</td>\n",
       "      <td>...</td>\n",
       "      <td>1.924</td>\n",
       "      <td>0.4782</td>\n",
       "      <td>-0.5450</td>\n",
       "      <td>-0.1995</td>\n",
       "      <td>5.00394</td>\n",
       "      <td>1.920</td>\n",
       "      <td>0.4859</td>\n",
       "      <td>0.3459</td>\n",
       "      <td>74.086956</td>\n",
       "      <td>17.040</td>\n",
       "    </tr>\n",
       "    <tr>\n",
       "      <th>3</th>\n",
       "      <td>David Aardsma</td>\n",
       "      <td>26.0</td>\n",
       "      <td>430911.0</td>\n",
       "      <td>aardsda01</td>\n",
       "      <td>2008</td>\n",
       "      <td>BOS</td>\n",
       "      <td>1</td>\n",
       "      <td>AL</td>\n",
       "      <td>47</td>\n",
       "      <td>0</td>\n",
       "      <td>...</td>\n",
       "      <td>1.904</td>\n",
       "      <td>0.4836</td>\n",
       "      <td>-0.7708</td>\n",
       "      <td>-0.0648</td>\n",
       "      <td>4.81624</td>\n",
       "      <td>1.901</td>\n",
       "      <td>0.4888</td>\n",
       "      <td>0.5205</td>\n",
       "      <td>83.796667</td>\n",
       "      <td>25.139</td>\n",
       "    </tr>\n",
       "    <tr>\n",
       "      <th>4</th>\n",
       "      <td>David Aardsma</td>\n",
       "      <td>27.0</td>\n",
       "      <td>430911.0</td>\n",
       "      <td>aardsda01</td>\n",
       "      <td>2009</td>\n",
       "      <td>SEA</td>\n",
       "      <td>1</td>\n",
       "      <td>AL</td>\n",
       "      <td>73</td>\n",
       "      <td>0</td>\n",
       "      <td>...</td>\n",
       "      <td>1.899</td>\n",
       "      <td>0.5105</td>\n",
       "      <td>0.7665</td>\n",
       "      <td>0.1574</td>\n",
       "      <td>4.90529</td>\n",
       "      <td>1.911</td>\n",
       "      <td>0.4894</td>\n",
       "      <td>0.7666</td>\n",
       "      <td>168.910000</td>\n",
       "      <td>33.782</td>\n",
       "    </tr>\n",
       "  </tbody>\n",
       "</table>\n",
       "<p>5 rows × 42 columns</p>\n",
       "</div>"
      ],
      "text/plain": [
       "     name_common   age    mlb_ID  player_ID  year_ID team_ID  stint_ID lg_ID  \\\n",
       "0  David Aardsma  22.0  430911.0  aardsda01     2004     SFG         1    NL   \n",
       "1  David Aardsma  24.0  430911.0  aardsda01     2006     CHC         1    NL   \n",
       "2  David Aardsma  25.0  430911.0  aardsda01     2007     CHW         1    AL   \n",
       "3  David Aardsma  26.0  430911.0  aardsda01     2008     BOS         1    AL   \n",
       "4  David Aardsma  27.0  430911.0  aardsda01     2009     SEA         1    AL   \n",
       "\n",
       "    G  GS   ...    pyth_exponent  waa_win_perc     WAA  WAA_adj  oppRpG_rep  \\\n",
       "0  11   0   ...            1.902        0.4803 -0.2167  -0.0299     4.75633   \n",
       "1  45   0   ...            1.909        0.5061  0.2745  -0.1316     4.97303   \n",
       "2  25   0   ...            1.924        0.4782 -0.5450  -0.1995     5.00394   \n",
       "3  47   0   ...            1.904        0.4836 -0.7708  -0.0648     4.81624   \n",
       "4  73   0   ...            1.899        0.5105  0.7665   0.1574     4.90529   \n",
       "\n",
       "   pyth_exponent_rep  waa_win_perc_rep  WAR_rep    ERA_plus   ER_lg  \n",
       "0              1.895            0.4914   0.0942   66.675000   5.334  \n",
       "1              1.919            0.4896   0.4682  114.295833  27.431  \n",
       "2              1.920            0.4859   0.3459   74.086956  17.040  \n",
       "3              1.901            0.4888   0.5205   83.796667  25.139  \n",
       "4              1.911            0.4894   0.7666  168.910000  33.782  \n",
       "\n",
       "[5 rows x 42 columns]"
      ]
     },
     "execution_count": 4,
     "metadata": {},
     "output_type": "execute_result"
    }
   ],
   "source": [
    "df.head()"
   ]
  },
  {
   "cell_type": "markdown",
   "metadata": {},
   "source": [
    "### Lester vs. himself"
   ]
  },
  {
   "cell_type": "code",
   "execution_count": 5,
   "metadata": {},
   "outputs": [
    {
     "data": {
      "application/vnd.vegalite.v2+json": {
       "$schema": "https://vega.github.io/schema/vega-lite/v2.4.3.json",
       "config": {
        "background": "white",
        "view": {
         "height": 300,
         "width": 400
        }
       },
       "data": {
        "format": {
         "type": "json"
        },
        "url": "altair-data-71a67349b5712e75a289b373ff070dd1.json"
       },
       "encoding": {
        "x": {
         "axis": {
          "title": "Age"
         },
         "field": "age",
         "type": "ordinal"
        },
        "y": {
         "axis": {
          "title": "ERA+"
         },
         "field": "ERA_plus",
         "type": "quantitative"
        }
       },
       "mark": "bar",
       "transform": [
        {
         "filter": "(datum.name_common === 'Jon Lester')"
        }
       ]
      },
      "image/png": "[encoded data removed]",
      "text/plain": [
       "<VegaLite 2 object>\n",
       "\n",
       "If you see this message, it means the renderer has not been properly enabled\n",
       "for the frontend that you are using. For more information, see\n",
       "https://altair-viz.github.io/user_guide/troubleshooting.html\n"
      ]
     },
     "execution_count": 5,
     "metadata": {},
     "output_type": "execute_result"
    }
   ],
   "source": [
    "alt.Chart(df).mark_bar().encode(\n",
    "    x=alt.X(\"age:O\", axis=alt.Axis(title=\"Age\")),\n",
    "    y=alt.Y(\"ERA_plus:Q\", axis=alt.Axis(title=\"ERA+\")),\n",
    ").transform_filter(alt.datum.name_common == 'Jon Lester')"
   ]
  },
  {
   "cell_type": "markdown",
   "metadata": {},
   "source": [
    "### Lester vs. all starters ever"
   ]
  },
  {
   "cell_type": "code",
   "execution_count": 6,
   "metadata": {},
   "outputs": [],
   "source": [
    "qualified_df = df[(df.age < 46) & (df.age > 17)]\n",
    "qualified_df = qualified_df[~pd.isnull(qualified_df.age)]\n",
    "qualified_df = qualified_df[(qualified_df.GS > 15) | (qualified_df.name_common == 'Jon Lester')]"
   ]
  },
  {
   "cell_type": "code",
   "execution_count": 19,
   "metadata": {},
   "outputs": [
    {
     "data": {
      "application/vnd.vegalite.v2+json": {
       "$schema": "https://vega.github.io/schema/vega-lite/v2.4.3.json",
       "config": {
        "background": "white",
        "view": {
         "height": 300,
         "width": 400
        }
       },
       "layer": [
        {
         "data": {
          "format": {
           "type": "json"
          },
          "url": "altair-data-de2c945176742c23e0e27b22243eb7d1.json"
         },
         "encoding": {
          "tooltip": [
           {
            "field": "name_common",
            "type": "nominal"
           },
           {
            "field": "year_ID",
            "type": "quantitative"
           },
           {
            "field": "ERA_plus",
            "type": "quantitative"
           }
          ],
          "x": {
           "axis": {
            "labelAngle": 0,
            "title": "Age"
           },
           "field": "age",
           "type": "ordinal"
          },
          "y": {
           "axis": {
            "labelPadding": 5,
            "tickCount": 5,
            "tickSize": 0,
            "title": "ERA+"
           },
           "field": "ERA_plus",
           "type": "quantitative"
          }
         },
         "height": 400,
         "mark": {
          "color": "#71a0c6",
          "opacity": 0.5,
          "size": 20,
          "type": "circle"
         },
         "title": "Jon Lester vs. Every Starter Ever",
         "transform": [
          {
           "filter": "(datum.name_common !== 'Jon Lester')"
          }
         ],
         "width": 800
        },
        {
         "data": {
          "format": {
           "type": "json"
          },
          "url": "altair-data-de2c945176742c23e0e27b22243eb7d1.json"
         },
         "encoding": {
          "tooltip": [
           {
            "field": "name_common",
            "type": "nominal"
           },
           {
            "field": "year_ID",
            "type": "quantitative"
           },
           {
            "field": "ERA_plus",
            "type": "quantitative"
           }
          ],
          "x": {
           "axis": {
            "labelAngle": 0,
            "title": "Age"
           },
           "field": "age",
           "type": "ordinal"
          },
          "y": {
           "axis": {
            "labelPadding": 5,
            "tickCount": 5,
            "tickSize": 0,
            "title": "ERA+"
           },
           "field": "ERA_plus",
           "type": "quantitative"
          }
         },
         "height": 400,
         "mark": {
          "color": "#C8102E",
          "opacity": 1,
          "size": 90,
          "type": "circle"
         },
         "title": "Jon Lester vs. Every Starter Ever",
         "transform": [
          {
           "filter": "(datum.name_common === 'Jon Lester')"
          }
         ],
         "width": 800
        }
       ]
      },
      "image/png": "[encoded data removed]",
      "text/plain": [
       "<VegaLite 2 object>\n",
       "\n",
       "If you see this message, it means the renderer has not been properly enabled\n",
       "for the frontend that you are using. For more information, see\n",
       "https://altair-viz.github.io/user_guide/troubleshooting.html\n"
      ]
     },
     "execution_count": 19,
     "metadata": {},
     "output_type": "execute_result"
    }
   ],
   "source": [
    "base = alt.Chart(qualified_df, title=\"Jon Lester vs. Every Starter Ever\").properties(width=800, height=400).encode(\n",
    "    x=alt.X(\"age:O\", axis=alt.Axis(title=\"Age\", labelAngle=0)),\n",
    "    y=alt.Y(\"ERA_plus:Q\", axis=alt.Axis(title=\"ERA+\", tickCount=5, labelPadding=5, tickSize=0)),\n",
    "    tooltip=[\"name_common\", \"year_ID\", \"ERA_plus\"]\n",
    ")\n",
    "\n",
    "field = base.mark_circle(color=\"#71a0c6\", size=20, opacity=0.5).transform_filter(alt.datum.name_common != 'Jon Lester')\n",
    "lester = base.mark_circle(color=\"#C8102E\", size=90, opacity=1).transform_filter(alt.datum.name_common == 'Jon Lester')\n",
    "\n",
    "field + lester"
   ]
  },
  {
   "cell_type": "markdown",
   "metadata": {},
   "source": [
    "### Top Age 34 seasons"
   ]
  },
  {
   "cell_type": "code",
   "execution_count": 22,
   "metadata": {},
   "outputs": [
    {
     "data": {
      "text/html": [
       "<div>\n",
       "<style scoped>\n",
       "    .dataframe tbody tr th:only-of-type {\n",
       "        vertical-align: middle;\n",
       "    }\n",
       "\n",
       "    .dataframe tbody tr th {\n",
       "        vertical-align: top;\n",
       "    }\n",
       "\n",
       "    .dataframe thead th {\n",
       "        text-align: right;\n",
       "    }\n",
       "</style>\n",
       "<table border=\"1\" class=\"dataframe\">\n",
       "  <thead>\n",
       "    <tr style=\"text-align: right;\">\n",
       "      <th></th>\n",
       "      <th>year_ID</th>\n",
       "      <th>team_ID</th>\n",
       "      <th>ERA_plus</th>\n",
       "    </tr>\n",
       "    <tr>\n",
       "      <th>name_common</th>\n",
       "      <th></th>\n",
       "      <th></th>\n",
       "      <th></th>\n",
       "    </tr>\n",
       "  </thead>\n",
       "  <tbody>\n",
       "    <tr>\n",
       "      <th>Roger Clemens</th>\n",
       "      <td>1997</td>\n",
       "      <td>TOR</td>\n",
       "      <td>221.573333</td>\n",
       "    </tr>\n",
       "    <tr>\n",
       "      <th>Cy Young</th>\n",
       "      <td>1901</td>\n",
       "      <td>BOS</td>\n",
       "      <td>218.980597</td>\n",
       "    </tr>\n",
       "    <tr>\n",
       "      <th>Nolan Ryan</th>\n",
       "      <td>1981</td>\n",
       "      <td>HOU</td>\n",
       "      <td>194.667857</td>\n",
       "    </tr>\n",
       "    <tr>\n",
       "      <th>Jon Lester</th>\n",
       "      <td>2018</td>\n",
       "      <td>CHC</td>\n",
       "      <td>185.140000</td>\n",
       "    </tr>\n",
       "    <tr>\n",
       "      <th>Chris Carpenter</th>\n",
       "      <td>2009</td>\n",
       "      <td>STL</td>\n",
       "      <td>181.941667</td>\n",
       "    </tr>\n",
       "    <tr>\n",
       "      <th>Al Benton</th>\n",
       "      <td>1945</td>\n",
       "      <td>DET</td>\n",
       "      <td>175.358139</td>\n",
       "    </tr>\n",
       "    <tr>\n",
       "      <th>Thornton Lee</th>\n",
       "      <td>1941</td>\n",
       "      <td>CHW</td>\n",
       "      <td>173.654430</td>\n",
       "    </tr>\n",
       "    <tr>\n",
       "      <th>Danny Darwin</th>\n",
       "      <td>1990</td>\n",
       "      <td>HOU</td>\n",
       "      <td>168.562500</td>\n",
       "    </tr>\n",
       "    <tr>\n",
       "      <th>Ray Kremer</th>\n",
       "      <td>1927</td>\n",
       "      <td>PIT</td>\n",
       "      <td>168.306452</td>\n",
       "    </tr>\n",
       "    <tr>\n",
       "      <th>Roy Halladay</th>\n",
       "      <td>2011</td>\n",
       "      <td>PHI</td>\n",
       "      <td>162.854098</td>\n",
       "    </tr>\n",
       "  </tbody>\n",
       "</table>\n",
       "</div>"
      ],
      "text/plain": [
       "                 year_ID team_ID    ERA_plus\n",
       "name_common                                 \n",
       "Roger Clemens       1997     TOR  221.573333\n",
       "Cy Young            1901     BOS  218.980597\n",
       "Nolan Ryan          1981     HOU  194.667857\n",
       "Jon Lester          2018     CHC  185.140000\n",
       "Chris Carpenter     2009     STL  181.941667\n",
       "Al Benton           1945     DET  175.358139\n",
       "Thornton Lee        1941     CHW  173.654430\n",
       "Danny Darwin        1990     HOU  168.562500\n",
       "Ray Kremer          1927     PIT  168.306452\n",
       "Roy Halladay        2011     PHI  162.854098"
      ]
     },
     "execution_count": 22,
     "metadata": {},
     "output_type": "execute_result"
    }
   ],
   "source": [
    "qualified_df[qualified_df.age == 34].sort_values(\"ERA_plus\", ascending=False)[[\n",
    "    'name_common',\n",
    "    'year_ID',\n",
    "    'team_ID',\n",
    "    'ERA_plus'\n",
    "]].head(10).set_index(\"name_common\")"
   ]
  },
  {
   "cell_type": "markdown",
   "metadata": {},
   "source": [
    "### Top ERA+ this season"
   ]
  },
  {
   "cell_type": "code",
   "execution_count": 21,
   "metadata": {},
   "outputs": [
    {
     "data": {
      "text/html": [
       "<div>\n",
       "<style scoped>\n",
       "    .dataframe tbody tr th:only-of-type {\n",
       "        vertical-align: middle;\n",
       "    }\n",
       "\n",
       "    .dataframe tbody tr th {\n",
       "        vertical-align: top;\n",
       "    }\n",
       "\n",
       "    .dataframe thead th {\n",
       "        text-align: right;\n",
       "    }\n",
       "</style>\n",
       "<table border=\"1\" class=\"dataframe\">\n",
       "  <thead>\n",
       "    <tr style=\"text-align: right;\">\n",
       "      <th></th>\n",
       "      <th>age</th>\n",
       "      <th>ERA_plus</th>\n",
       "    </tr>\n",
       "    <tr>\n",
       "      <th>name_common</th>\n",
       "      <th></th>\n",
       "      <th></th>\n",
       "    </tr>\n",
       "  </thead>\n",
       "  <tbody>\n",
       "    <tr>\n",
       "      <th>Luis Severino</th>\n",
       "      <td>24.0</td>\n",
       "      <td>213.957692</td>\n",
       "    </tr>\n",
       "    <tr>\n",
       "      <th>Jacob deGrom</th>\n",
       "      <td>30.0</td>\n",
       "      <td>206.100000</td>\n",
       "    </tr>\n",
       "    <tr>\n",
       "      <th>Mike Foltynewicz</th>\n",
       "      <td>26.0</td>\n",
       "      <td>192.115000</td>\n",
       "    </tr>\n",
       "    <tr>\n",
       "      <th>Max Scherzer</th>\n",
       "      <td>33.0</td>\n",
       "      <td>188.741379</td>\n",
       "    </tr>\n",
       "    <tr>\n",
       "      <th>Jon Lester</th>\n",
       "      <td>34.0</td>\n",
       "      <td>185.140000</td>\n",
       "    </tr>\n",
       "    <tr>\n",
       "      <th>Chris Sale</th>\n",
       "      <td>29.0</td>\n",
       "      <td>181.077419</td>\n",
       "    </tr>\n",
       "    <tr>\n",
       "      <th>Trevor Bauer</th>\n",
       "      <td>27.0</td>\n",
       "      <td>179.590909</td>\n",
       "    </tr>\n",
       "    <tr>\n",
       "      <th>Justin Verlander</th>\n",
       "      <td>35.0</td>\n",
       "      <td>177.810714</td>\n",
       "    </tr>\n",
       "    <tr>\n",
       "      <th>Blake Snell</th>\n",
       "      <td>25.0</td>\n",
       "      <td>176.307407</td>\n",
       "    </tr>\n",
       "    <tr>\n",
       "      <th>Aaron Nola</th>\n",
       "      <td>25.0</td>\n",
       "      <td>168.080645</td>\n",
       "    </tr>\n",
       "  </tbody>\n",
       "</table>\n",
       "</div>"
      ],
      "text/plain": [
       "                   age    ERA_plus\n",
       "name_common                       \n",
       "Luis Severino     24.0  213.957692\n",
       "Jacob deGrom      30.0  206.100000\n",
       "Mike Foltynewicz  26.0  192.115000\n",
       "Max Scherzer      33.0  188.741379\n",
       "Jon Lester        34.0  185.140000\n",
       "Chris Sale        29.0  181.077419\n",
       "Trevor Bauer      27.0  179.590909\n",
       "Justin Verlander  35.0  177.810714\n",
       "Blake Snell       25.0  176.307407\n",
       "Aaron Nola        25.0  168.080645"
      ]
     },
     "execution_count": 21,
     "metadata": {},
     "output_type": "execute_result"
    }
   ],
   "source": [
    "qualified_df[qualified_df.year_ID == 2018].sort_values(\"ERA_plus\", ascending=False)[[\n",
    "    'name_common',\n",
    "    'age',\n",
    "    'ERA_plus'\n",
    "]].head(10).set_index(\"name_common\")"
   ]
  }
 ],
 "metadata": {
  "kernelspec": {
   "display_name": "Python 2",
   "language": "python",
   "name": "python2"
  },
  "language_info": {
   "codemirror_mode": {
    "name": "ipython",
    "version": 2
   },
   "file_extension": ".py",
   "mimetype": "text/x-python",
   "name": "python",
   "nbconvert_exporter": "python",
   "pygments_lexer": "ipython2",
   "version": "2.7.12"
  }
 },
 "nbformat": 4,
 "nbformat_minor": 2
}
