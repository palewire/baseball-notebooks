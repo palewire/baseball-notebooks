{
 "cells": [
  {
   "cell_type": "code",
   "execution_count": 1,
   "metadata": {},
   "outputs": [],
   "source": [
    "import pandas as pd\n",
    "import altair as alt"
   ]
  },
  {
   "cell_type": "code",
   "execution_count": 2,
   "metadata": {},
   "outputs": [
    {
     "data": {
      "text/plain": [
       "DataTransformerRegistry.enable('json')"
      ]
     },
     "execution_count": 2,
     "metadata": {},
     "output_type": "execute_result"
    }
   ],
   "source": [
    "alt.themes.enable('opaque')\n",
    "alt.data_transformers.enable('json')"
   ]
  },
  {
   "cell_type": "code",
   "execution_count": 3,
   "metadata": {},
   "outputs": [],
   "source": [
    "df = pd.read_csv(\"./input/war_daily_pitch.txt\")"
   ]
  },
  {
   "cell_type": "code",
   "execution_count": 13,
   "metadata": {},
   "outputs": [
    {
     "data": {
      "text/html": [
       "<div>\n",
       "<style scoped>\n",
       "    .dataframe tbody tr th:only-of-type {\n",
       "        vertical-align: middle;\n",
       "    }\n",
       "\n",
       "    .dataframe tbody tr th {\n",
       "        vertical-align: top;\n",
       "    }\n",
       "\n",
       "    .dataframe thead th {\n",
       "        text-align: right;\n",
       "    }\n",
       "</style>\n",
       "<table border=\"1\" class=\"dataframe\">\n",
       "  <thead>\n",
       "    <tr style=\"text-align: right;\">\n",
       "      <th></th>\n",
       "      <th>name_common</th>\n",
       "      <th>age</th>\n",
       "      <th>mlb_ID</th>\n",
       "      <th>player_ID</th>\n",
       "      <th>year_ID</th>\n",
       "      <th>team_ID</th>\n",
       "      <th>stint_ID</th>\n",
       "      <th>lg_ID</th>\n",
       "      <th>G</th>\n",
       "      <th>GS</th>\n",
       "      <th>...</th>\n",
       "      <th>pyth_exponent</th>\n",
       "      <th>waa_win_perc</th>\n",
       "      <th>WAA</th>\n",
       "      <th>WAA_adj</th>\n",
       "      <th>oppRpG_rep</th>\n",
       "      <th>pyth_exponent_rep</th>\n",
       "      <th>waa_win_perc_rep</th>\n",
       "      <th>WAR_rep</th>\n",
       "      <th>ERA_plus</th>\n",
       "      <th>ER_lg</th>\n",
       "    </tr>\n",
       "  </thead>\n",
       "  <tbody>\n",
       "    <tr>\n",
       "      <th>0</th>\n",
       "      <td>David Aardsma</td>\n",
       "      <td>22.0</td>\n",
       "      <td>430911.0</td>\n",
       "      <td>aardsda01</td>\n",
       "      <td>2004</td>\n",
       "      <td>SFG</td>\n",
       "      <td>1</td>\n",
       "      <td>NL</td>\n",
       "      <td>11</td>\n",
       "      <td>0</td>\n",
       "      <td>...</td>\n",
       "      <td>1.902</td>\n",
       "      <td>0.4803</td>\n",
       "      <td>-0.2167</td>\n",
       "      <td>-0.0299</td>\n",
       "      <td>4.75633</td>\n",
       "      <td>1.895</td>\n",
       "      <td>0.4914</td>\n",
       "      <td>0.0942</td>\n",
       "      <td>66.675000</td>\n",
       "      <td>5.334</td>\n",
       "    </tr>\n",
       "    <tr>\n",
       "      <th>1</th>\n",
       "      <td>David Aardsma</td>\n",
       "      <td>24.0</td>\n",
       "      <td>430911.0</td>\n",
       "      <td>aardsda01</td>\n",
       "      <td>2006</td>\n",
       "      <td>CHC</td>\n",
       "      <td>1</td>\n",
       "      <td>NL</td>\n",
       "      <td>45</td>\n",
       "      <td>0</td>\n",
       "      <td>...</td>\n",
       "      <td>1.909</td>\n",
       "      <td>0.5061</td>\n",
       "      <td>0.2745</td>\n",
       "      <td>-0.1316</td>\n",
       "      <td>4.97303</td>\n",
       "      <td>1.919</td>\n",
       "      <td>0.4896</td>\n",
       "      <td>0.4682</td>\n",
       "      <td>114.295833</td>\n",
       "      <td>27.431</td>\n",
       "    </tr>\n",
       "    <tr>\n",
       "      <th>2</th>\n",
       "      <td>David Aardsma</td>\n",
       "      <td>25.0</td>\n",
       "      <td>430911.0</td>\n",
       "      <td>aardsda01</td>\n",
       "      <td>2007</td>\n",
       "      <td>CHW</td>\n",
       "      <td>1</td>\n",
       "      <td>AL</td>\n",
       "      <td>25</td>\n",
       "      <td>0</td>\n",
       "      <td>...</td>\n",
       "      <td>1.924</td>\n",
       "      <td>0.4782</td>\n",
       "      <td>-0.5450</td>\n",
       "      <td>-0.1995</td>\n",
       "      <td>5.00394</td>\n",
       "      <td>1.920</td>\n",
       "      <td>0.4859</td>\n",
       "      <td>0.3459</td>\n",
       "      <td>74.086956</td>\n",
       "      <td>17.040</td>\n",
       "    </tr>\n",
       "    <tr>\n",
       "      <th>3</th>\n",
       "      <td>David Aardsma</td>\n",
       "      <td>26.0</td>\n",
       "      <td>430911.0</td>\n",
       "      <td>aardsda01</td>\n",
       "      <td>2008</td>\n",
       "      <td>BOS</td>\n",
       "      <td>1</td>\n",
       "      <td>AL</td>\n",
       "      <td>47</td>\n",
       "      <td>0</td>\n",
       "      <td>...</td>\n",
       "      <td>1.904</td>\n",
       "      <td>0.4836</td>\n",
       "      <td>-0.7708</td>\n",
       "      <td>-0.0648</td>\n",
       "      <td>4.81624</td>\n",
       "      <td>1.901</td>\n",
       "      <td>0.4888</td>\n",
       "      <td>0.5205</td>\n",
       "      <td>83.796667</td>\n",
       "      <td>25.139</td>\n",
       "    </tr>\n",
       "    <tr>\n",
       "      <th>4</th>\n",
       "      <td>David Aardsma</td>\n",
       "      <td>27.0</td>\n",
       "      <td>430911.0</td>\n",
       "      <td>aardsda01</td>\n",
       "      <td>2009</td>\n",
       "      <td>SEA</td>\n",
       "      <td>1</td>\n",
       "      <td>AL</td>\n",
       "      <td>73</td>\n",
       "      <td>0</td>\n",
       "      <td>...</td>\n",
       "      <td>1.899</td>\n",
       "      <td>0.5105</td>\n",
       "      <td>0.7665</td>\n",
       "      <td>0.1574</td>\n",
       "      <td>4.90529</td>\n",
       "      <td>1.911</td>\n",
       "      <td>0.4894</td>\n",
       "      <td>0.7666</td>\n",
       "      <td>168.910000</td>\n",
       "      <td>33.782</td>\n",
       "    </tr>\n",
       "  </tbody>\n",
       "</table>\n",
       "<p>5 rows × 42 columns</p>\n",
       "</div>"
      ],
      "text/plain": [
       "     name_common   age    mlb_ID  player_ID  year_ID team_ID  stint_ID lg_ID  \\\n",
       "0  David Aardsma  22.0  430911.0  aardsda01     2004     SFG         1    NL   \n",
       "1  David Aardsma  24.0  430911.0  aardsda01     2006     CHC         1    NL   \n",
       "2  David Aardsma  25.0  430911.0  aardsda01     2007     CHW         1    AL   \n",
       "3  David Aardsma  26.0  430911.0  aardsda01     2008     BOS         1    AL   \n",
       "4  David Aardsma  27.0  430911.0  aardsda01     2009     SEA         1    AL   \n",
       "\n",
       "    G  GS   ...    pyth_exponent  waa_win_perc     WAA  WAA_adj  oppRpG_rep  \\\n",
       "0  11   0   ...            1.902        0.4803 -0.2167  -0.0299     4.75633   \n",
       "1  45   0   ...            1.909        0.5061  0.2745  -0.1316     4.97303   \n",
       "2  25   0   ...            1.924        0.4782 -0.5450  -0.1995     5.00394   \n",
       "3  47   0   ...            1.904        0.4836 -0.7708  -0.0648     4.81624   \n",
       "4  73   0   ...            1.899        0.5105  0.7665   0.1574     4.90529   \n",
       "\n",
       "   pyth_exponent_rep  waa_win_perc_rep  WAR_rep    ERA_plus   ER_lg  \n",
       "0              1.895            0.4914   0.0942   66.675000   5.334  \n",
       "1              1.919            0.4896   0.4682  114.295833  27.431  \n",
       "2              1.920            0.4859   0.3459   74.086956  17.040  \n",
       "3              1.901            0.4888   0.5205   83.796667  25.139  \n",
       "4              1.911            0.4894   0.7666  168.910000  33.782  \n",
       "\n",
       "[5 rows x 42 columns]"
      ]
     },
     "execution_count": 13,
     "metadata": {},
     "output_type": "execute_result"
    }
   ],
   "source": [
    "df.head()"
   ]
  },
  {
   "cell_type": "markdown",
   "metadata": {},
   "source": [
    "### Lester vs. himself"
   ]
  },
  {
   "cell_type": "code",
   "execution_count": 95,
   "metadata": {},
   "outputs": [
    {
     "data": {
      "application/vnd.vegalite.v2+json": {
       "$schema": "https://vega.github.io/schema/vega-lite/v2.4.3.json",
       "config": {
        "background": "white",
        "view": {
         "height": 300,
         "width": 400
        }
       },
       "data": {
        "format": {
         "type": "json"
        },
        "url": "altair-data-edc5c8aa17249a74f2d58f70a48ccb94.json"
       },
       "encoding": {
        "x": {
         "axis": {
          "title": "Age"
         },
         "field": "age",
         "type": "ordinal"
        },
        "y": {
         "axis": {
          "title": "ERA+"
         },
         "field": "ERA_plus",
         "type": "quantitative"
        }
       },
       "mark": "bar",
       "transform": [
        {
         "filter": "(datum.name_common === 'Jon Lester')"
        }
       ]
      },
      "image/png": "[encoded data removed]",
      "text/plain": [
       "<VegaLite 2 object>\n",
       "\n",
       "If you see this message, it means the renderer has not been properly enabled\n",
       "for the frontend that you are using. For more information, see\n",
       "https://altair-viz.github.io/user_guide/troubleshooting.html\n"
      ]
     },
     "execution_count": 95,
     "metadata": {},
     "output_type": "execute_result"
    }
   ],
   "source": [
    "alt.Chart(df).mark_bar().encode(\n",
    "    x=alt.X(\"age:O\", axis=alt.Axis(title=\"Age\")),\n",
    "    y=alt.Y(\"ERA_plus:Q\", axis=alt.Axis(title=\"ERA+\")),\n",
    ").transform_filter(alt.datum.name_common == 'Jon Lester')"
   ]
  },
  {
   "cell_type": "markdown",
   "metadata": {},
   "source": [
    "### Lester vs. all starters ever"
   ]
  },
  {
   "cell_type": "code",
   "execution_count": 117,
   "metadata": {},
   "outputs": [],
   "source": [
    "qualified_df = df[(df.age < 46) & (df.age > 17)]\n",
    "qualified_df = qualified_df[~pd.isnull(qualified_df.age)]\n",
    "qualified_df = qualified_df[(qualified_df.GS > 15) | (qualified_df.name_common == 'Jon Lester')]"
   ]
  },
  {
   "cell_type": "code",
   "execution_count": 118,
   "metadata": {},
   "outputs": [
    {
     "data": {
      "application/vnd.vegalite.v2+json": {
       "$schema": "https://vega.github.io/schema/vega-lite/v2.4.3.json",
       "config": {
        "background": "white",
        "view": {
         "height": 300,
         "width": 400
        }
       },
       "layer": [
        {
         "data": {
          "format": {
           "type": "json"
          },
          "url": "altair-data-157244bd8145b7aedf753bbda9902a7e.json"
         },
         "encoding": {
          "tooltip": [
           {
            "field": "name_common",
            "type": "nominal"
           },
           {
            "field": "year_ID",
            "type": "quantitative"
           },
           {
            "field": "ERA_plus",
            "type": "quantitative"
           }
          ],
          "x": {
           "axis": {
            "labelAngle": 0,
            "title": "Age"
           },
           "field": "age",
           "type": "ordinal"
          },
          "y": {
           "axis": {
            "labelPadding": 5,
            "tickCount": 5,
            "tickSize": 0,
            "title": "ERA+"
           },
           "field": "ERA_plus",
           "type": "quantitative"
          }
         },
         "height": 400,
         "mark": {
          "color": "steelblue",
          "opacity": 0.5,
          "size": 20,
          "type": "circle"
         },
         "title": "Jon Lester vs. Every Starter Ever",
         "transform": [
          {
           "filter": "(datum.name_common !== 'Jon Lester')"
          }
         ],
         "width": 800
        },
        {
         "data": {
          "format": {
           "type": "json"
          },
          "url": "altair-data-157244bd8145b7aedf753bbda9902a7e.json"
         },
         "encoding": {
          "tooltip": [
           {
            "field": "name_common",
            "type": "nominal"
           },
           {
            "field": "year_ID",
            "type": "quantitative"
           },
           {
            "field": "ERA_plus",
            "type": "quantitative"
           }
          ],
          "x": {
           "axis": {
            "labelAngle": 0,
            "title": "Age"
           },
           "field": "age",
           "type": "ordinal"
          },
          "y": {
           "axis": {
            "labelPadding": 5,
            "tickCount": 5,
            "tickSize": 0,
            "title": "ERA+"
           },
           "field": "ERA_plus",
           "type": "quantitative"
          }
         },
         "height": 400,
         "mark": {
          "color": "red",
          "opacity": 1,
          "size": 80,
          "type": "circle"
         },
         "title": "Jon Lester vs. Every Starter Ever",
         "transform": [
          {
           "filter": "(datum.name_common === 'Jon Lester')"
          }
         ],
         "width": 800
        }
       ]
      },
      "image/png": "[encoded data removed]",
      "text/plain": [
       "<VegaLite 2 object>\n",
       "\n",
       "If you see this message, it means the renderer has not been properly enabled\n",
       "for the frontend that you are using. For more information, see\n",
       "https://altair-viz.github.io/user_guide/troubleshooting.html\n"
      ]
     },
     "execution_count": 118,
     "metadata": {},
     "output_type": "execute_result"
    }
   ],
   "source": [
    "base = alt.Chart(qualified_df, title=\"Jon Lester vs. Every Starter Ever\").properties(width=800, height=400).encode(\n",
    "    x=alt.X(\"age:O\", axis=alt.Axis(title=\"Age\", labelAngle=0)),\n",
    "    y=alt.Y(\"ERA_plus:Q\", axis=alt.Axis(title=\"ERA+\", tickCount=5, labelPadding=5, tickSize=0)),\n",
    "    tooltip=[\"name_common\", \"year_ID\", \"ERA_plus\"]\n",
    ")\n",
    "\n",
    "field = base.mark_circle(color=\"steelblue\", size=20, opacity=0.5).transform_filter(alt.datum.name_common != 'Jon Lester')\n",
    "lester = base.mark_circle(color=\"red\", size=80, opacity=1).transform_filter(alt.datum.name_common == 'Jon Lester')\n",
    "\n",
    "field + lester"
   ]
  },
  {
   "cell_type": "markdown",
   "metadata": {},
   "source": [
    "### Top Age 34 seasons"
   ]
  },
  {
   "cell_type": "code",
   "execution_count": 22,
   "metadata": {},
   "outputs": [
    {
     "data": {
      "text/html": [
       "<div>\n",
       "<style scoped>\n",
       "    .dataframe tbody tr th:only-of-type {\n",
       "        vertical-align: middle;\n",
       "    }\n",
       "\n",
       "    .dataframe tbody tr th {\n",
       "        vertical-align: top;\n",
       "    }\n",
       "\n",
       "    .dataframe thead th {\n",
       "        text-align: right;\n",
       "    }\n",
       "</style>\n",
       "<table border=\"1\" class=\"dataframe\">\n",
       "  <thead>\n",
       "    <tr style=\"text-align: right;\">\n",
       "      <th></th>\n",
       "      <th>year_ID</th>\n",
       "      <th>ERA_plus</th>\n",
       "    </tr>\n",
       "    <tr>\n",
       "      <th>name_common</th>\n",
       "      <th></th>\n",
       "      <th></th>\n",
       "    </tr>\n",
       "  </thead>\n",
       "  <tbody>\n",
       "    <tr>\n",
       "      <th>Roger Clemens</th>\n",
       "      <td>1997</td>\n",
       "      <td>221.573333</td>\n",
       "    </tr>\n",
       "    <tr>\n",
       "      <th>Cy Young</th>\n",
       "      <td>1901</td>\n",
       "      <td>218.980597</td>\n",
       "    </tr>\n",
       "    <tr>\n",
       "      <th>Nolan Ryan</th>\n",
       "      <td>1981</td>\n",
       "      <td>194.667857</td>\n",
       "    </tr>\n",
       "    <tr>\n",
       "      <th>Jon Lester</th>\n",
       "      <td>2018</td>\n",
       "      <td>183.123809</td>\n",
       "    </tr>\n",
       "    <tr>\n",
       "      <th>Chris Carpenter</th>\n",
       "      <td>2009</td>\n",
       "      <td>181.941667</td>\n",
       "    </tr>\n",
       "    <tr>\n",
       "      <th>Al Benton</th>\n",
       "      <td>1945</td>\n",
       "      <td>175.358139</td>\n",
       "    </tr>\n",
       "    <tr>\n",
       "      <th>Thornton Lee</th>\n",
       "      <td>1941</td>\n",
       "      <td>173.654430</td>\n",
       "    </tr>\n",
       "    <tr>\n",
       "      <th>Ray Kremer</th>\n",
       "      <td>1927</td>\n",
       "      <td>168.306452</td>\n",
       "    </tr>\n",
       "    <tr>\n",
       "      <th>Roy Halladay</th>\n",
       "      <td>2011</td>\n",
       "      <td>162.854098</td>\n",
       "    </tr>\n",
       "    <tr>\n",
       "      <th>David Cone</th>\n",
       "      <td>1997</td>\n",
       "      <td>159.427869</td>\n",
       "    </tr>\n",
       "  </tbody>\n",
       "</table>\n",
       "</div>"
      ],
      "text/plain": [
       "                 year_ID    ERA_plus\n",
       "name_common                         \n",
       "Roger Clemens       1997  221.573333\n",
       "Cy Young            1901  218.980597\n",
       "Nolan Ryan          1981  194.667857\n",
       "Jon Lester          2018  183.123809\n",
       "Chris Carpenter     2009  181.941667\n",
       "Al Benton           1945  175.358139\n",
       "Thornton Lee        1941  173.654430\n",
       "Ray Kremer          1927  168.306452\n",
       "Roy Halladay        2011  162.854098\n",
       "David Cone          1997  159.427869"
      ]
     },
     "execution_count": 22,
     "metadata": {},
     "output_type": "execute_result"
    }
   ],
   "source": [
    "qualified_df[qualified_df.age == 34].sort_values(\"ERA_plus\", ascending=False)[[\n",
    "    'name_common',\n",
    "    'year_ID',\n",
    "    'ERA_plus'\n",
    "]].head(10).set_index(\"name_common\")"
   ]
  },
  {
   "cell_type": "markdown",
   "metadata": {},
   "source": [
    "### Top ERA+ this season"
   ]
  },
  {
   "cell_type": "code",
   "execution_count": 31,
   "metadata": {},
   "outputs": [
    {
     "data": {
      "text/html": [
       "<div>\n",
       "<style scoped>\n",
       "    .dataframe tbody tr th:only-of-type {\n",
       "        vertical-align: middle;\n",
       "    }\n",
       "\n",
       "    .dataframe tbody tr th {\n",
       "        vertical-align: top;\n",
       "    }\n",
       "\n",
       "    .dataframe thead th {\n",
       "        text-align: right;\n",
       "    }\n",
       "</style>\n",
       "<table border=\"1\" class=\"dataframe\">\n",
       "  <thead>\n",
       "    <tr style=\"text-align: right;\">\n",
       "      <th></th>\n",
       "      <th>age</th>\n",
       "      <th>GS</th>\n",
       "      <th>year_ID</th>\n",
       "      <th>ERA_plus</th>\n",
       "    </tr>\n",
       "    <tr>\n",
       "      <th>name_common</th>\n",
       "      <th></th>\n",
       "      <th></th>\n",
       "      <th></th>\n",
       "      <th></th>\n",
       "    </tr>\n",
       "  </thead>\n",
       "  <tbody>\n",
       "    <tr>\n",
       "      <th>Jacob deGrom</th>\n",
       "      <td>30.0</td>\n",
       "      <td>15</td>\n",
       "      <td>2018</td>\n",
       "      <td>252.118750</td>\n",
       "    </tr>\n",
       "    <tr>\n",
       "      <th>Justin Verlander</th>\n",
       "      <td>35.0</td>\n",
       "      <td>16</td>\n",
       "      <td>2018</td>\n",
       "      <td>233.831579</td>\n",
       "    </tr>\n",
       "    <tr>\n",
       "      <th>Luis Severino</th>\n",
       "      <td>24.0</td>\n",
       "      <td>15</td>\n",
       "      <td>2018</td>\n",
       "      <td>202.517391</td>\n",
       "    </tr>\n",
       "    <tr>\n",
       "      <th>Max Scherzer</th>\n",
       "      <td>33.0</td>\n",
       "      <td>15</td>\n",
       "      <td>2018</td>\n",
       "      <td>196.804348</td>\n",
       "    </tr>\n",
       "    <tr>\n",
       "      <th>Corey Kluber</th>\n",
       "      <td>32.0</td>\n",
       "      <td>15</td>\n",
       "      <td>2018</td>\n",
       "      <td>196.769231</td>\n",
       "    </tr>\n",
       "    <tr>\n",
       "      <th>Jon Lester</th>\n",
       "      <td>34.0</td>\n",
       "      <td>14</td>\n",
       "      <td>2018</td>\n",
       "      <td>183.123809</td>\n",
       "    </tr>\n",
       "    <tr>\n",
       "      <th>Mike Foltynewicz</th>\n",
       "      <td>26.0</td>\n",
       "      <td>14</td>\n",
       "      <td>2018</td>\n",
       "      <td>179.778947</td>\n",
       "    </tr>\n",
       "    <tr>\n",
       "      <th>Trevor Bauer</th>\n",
       "      <td>27.0</td>\n",
       "      <td>15</td>\n",
       "      <td>2018</td>\n",
       "      <td>175.753571</td>\n",
       "    </tr>\n",
       "    <tr>\n",
       "      <th>Chris Sale</th>\n",
       "      <td>29.0</td>\n",
       "      <td>16</td>\n",
       "      <td>2018</td>\n",
       "      <td>159.329032</td>\n",
       "    </tr>\n",
       "    <tr>\n",
       "      <th>Blake Snell</th>\n",
       "      <td>25.0</td>\n",
       "      <td>16</td>\n",
       "      <td>2018</td>\n",
       "      <td>159.065385</td>\n",
       "    </tr>\n",
       "  </tbody>\n",
       "</table>\n",
       "</div>"
      ],
      "text/plain": [
       "                   age  GS  year_ID    ERA_plus\n",
       "name_common                                    \n",
       "Jacob deGrom      30.0  15     2018  252.118750\n",
       "Justin Verlander  35.0  16     2018  233.831579\n",
       "Luis Severino     24.0  15     2018  202.517391\n",
       "Max Scherzer      33.0  15     2018  196.804348\n",
       "Corey Kluber      32.0  15     2018  196.769231\n",
       "Jon Lester        34.0  14     2018  183.123809\n",
       "Mike Foltynewicz  26.0  14     2018  179.778947\n",
       "Trevor Bauer      27.0  15     2018  175.753571\n",
       "Chris Sale        29.0  16     2018  159.329032\n",
       "Blake Snell       25.0  16     2018  159.065385"
      ]
     },
     "execution_count": 31,
     "metadata": {},
     "output_type": "execute_result"
    }
   ],
   "source": [
    "df[(df.year_ID == 2018) & (df.GS > 10)].sort_values(\"ERA_plus\", ascending=False)[[\n",
    "    'name_common',\n",
    "    'age',\n",
    "    'year_ID',\n",
    "    'ERA_plus'\n",
    "]].head(10).set_index(\"name_common\")"
   ]
  },
  {
   "cell_type": "markdown",
   "metadata": {},
   "source": [
    "### Top Age 35 seasons\n",
    "\n",
    "Verlander has me thinking."
   ]
  },
  {
   "cell_type": "code",
   "execution_count": 34,
   "metadata": {},
   "outputs": [
    {
     "data": {
      "text/html": [
       "<div>\n",
       "<style scoped>\n",
       "    .dataframe tbody tr th:only-of-type {\n",
       "        vertical-align: middle;\n",
       "    }\n",
       "\n",
       "    .dataframe tbody tr th {\n",
       "        vertical-align: top;\n",
       "    }\n",
       "\n",
       "    .dataframe thead th {\n",
       "        text-align: right;\n",
       "    }\n",
       "</style>\n",
       "<table border=\"1\" class=\"dataframe\">\n",
       "  <thead>\n",
       "    <tr style=\"text-align: right;\">\n",
       "      <th></th>\n",
       "      <th>year_ID</th>\n",
       "      <th>ERA_plus</th>\n",
       "    </tr>\n",
       "    <tr>\n",
       "      <th>name_common</th>\n",
       "      <th></th>\n",
       "      <th></th>\n",
       "    </tr>\n",
       "  </thead>\n",
       "  <tbody>\n",
       "    <tr>\n",
       "      <th>Justin Verlander</th>\n",
       "      <td>2018</td>\n",
       "      <td>233.831579</td>\n",
       "    </tr>\n",
       "    <tr>\n",
       "      <th>Spud Chandler</th>\n",
       "      <td>1943</td>\n",
       "      <td>197.734783</td>\n",
       "    </tr>\n",
       "    <tr>\n",
       "      <th>Randy Johnson</th>\n",
       "      <td>1999</td>\n",
       "      <td>184.025333</td>\n",
       "    </tr>\n",
       "    <tr>\n",
       "      <th>Ryan Dempster</th>\n",
       "      <td>2012</td>\n",
       "      <td>181.523077</td>\n",
       "    </tr>\n",
       "    <tr>\n",
       "      <th>Eddie Cicotte</th>\n",
       "      <td>1919</td>\n",
       "      <td>175.579032</td>\n",
       "    </tr>\n",
       "    <tr>\n",
       "      <th>Lefty Grove</th>\n",
       "      <td>1935</td>\n",
       "      <td>174.896341</td>\n",
       "    </tr>\n",
       "    <tr>\n",
       "      <th>Roger Clemens</th>\n",
       "      <td>1998</td>\n",
       "      <td>174.407246</td>\n",
       "    </tr>\n",
       "    <tr>\n",
       "      <th>Bret Saberhagen</th>\n",
       "      <td>1999</td>\n",
       "      <td>170.564102</td>\n",
       "    </tr>\n",
       "    <tr>\n",
       "      <th>Whitey Ford</th>\n",
       "      <td>1964</td>\n",
       "      <td>170.212069</td>\n",
       "    </tr>\n",
       "    <tr>\n",
       "      <th>Kevin Brown</th>\n",
       "      <td>2000</td>\n",
       "      <td>167.245454</td>\n",
       "    </tr>\n",
       "  </tbody>\n",
       "</table>\n",
       "</div>"
      ],
      "text/plain": [
       "                  year_ID    ERA_plus\n",
       "name_common                          \n",
       "Justin Verlander     2018  233.831579\n",
       "Spud Chandler        1943  197.734783\n",
       "Randy Johnson        1999  184.025333\n",
       "Ryan Dempster        2012  181.523077\n",
       "Eddie Cicotte        1919  175.579032\n",
       "Lefty Grove          1935  174.896341\n",
       "Roger Clemens        1998  174.407246\n",
       "Bret Saberhagen      1999  170.564102\n",
       "Whitey Ford          1964  170.212069\n",
       "Kevin Brown          2000  167.245454"
      ]
     },
     "execution_count": 34,
     "metadata": {},
     "output_type": "execute_result"
    }
   ],
   "source": [
    "qualified_df[qualified_df.age == 35].sort_values(\"ERA_plus\", ascending=False)[[\n",
    "    'name_common',\n",
    "    'year_ID',\n",
    "    'ERA_plus'\n",
    "]].head(10).set_index(\"name_common\")"
   ]
  }
 ],
 "metadata": {
  "kernelspec": {
   "display_name": "Python 2",
   "language": "python",
   "name": "python2"
  },
  "language_info": {
   "codemirror_mode": {
    "name": "ipython",
    "version": 2
   },
   "file_extension": ".py",
   "mimetype": "text/x-python",
   "name": "python",
   "nbconvert_exporter": "python",
   "pygments_lexer": "ipython2",
   "version": "2.7.12"
  }
 },
 "nbformat": 4,
 "nbformat_minor": 2
}
