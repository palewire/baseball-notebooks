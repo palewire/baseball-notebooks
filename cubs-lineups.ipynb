{
 "cells": [
  {
   "cell_type": "markdown",
   "metadata": {},
   "source": [
    "# Cubs lineup analysis\n",
    "\n",
    "By [Ben Welsh](https://palewi.re/who-is-ben-welsh/)\n",
    "\n",
    "A lookup at the lineups selected by Chicago Cubs Manager Joe Maddon during the 2018 baseball season."
   ]
  },
  {
   "cell_type": "code",
   "execution_count": 1,
   "metadata": {},
   "outputs": [],
   "source": [
    "import pandas as pd\n",
    "import altair as alt\n",
    "import altair_latimes as lat"
   ]
  },
  {
   "cell_type": "code",
   "execution_count": 2,
   "metadata": {},
   "outputs": [
    {
     "data": {
      "text/plain": [
       "ThemeRegistry.enable('latimes')"
      ]
     },
     "execution_count": 2,
     "metadata": {},
     "output_type": "execute_result"
    }
   ],
   "source": [
    "alt.themes.register('latimes', lat.theme)\n",
    "alt.themes.enable('latimes')"
   ]
  },
  {
   "cell_type": "code",
   "execution_count": 3,
   "metadata": {},
   "outputs": [
    {
     "data": {
      "text/plain": [
       "DataTransformerRegistry.enable('json')"
      ]
     },
     "execution_count": 3,
     "metadata": {},
     "output_type": "execute_result"
    }
   ],
   "source": [
    "alt.data_transformers.enable('json')"
   ]
  },
  {
   "cell_type": "code",
   "execution_count": 4,
   "metadata": {},
   "outputs": [],
   "source": [
    "pd.set_option('display.max_colwidth', -1)"
   ]
  },
  {
   "cell_type": "code",
   "execution_count": 5,
   "metadata": {},
   "outputs": [],
   "source": [
    "df = pd.read_csv(\"./input/CHC_batting_orders_all.csv\").set_index(\"number\")"
   ]
  },
  {
   "cell_type": "markdown",
   "metadata": {},
   "source": [
    "### How many distinct lineups have been used?"
   ]
  },
  {
   "cell_type": "code",
   "execution_count": 6,
   "metadata": {},
   "outputs": [],
   "source": [
    "def create_id(row):\n",
    "    return '-'.join(row[[\n",
    "        'one',\n",
    "        'two',\n",
    "        'three',\n",
    "        'four',\n",
    "        'five',\n",
    "        'six',\n",
    "        'seven',\n",
    "        'eight',\n",
    "        'nine'\n",
    "    ]])"
   ]
  },
  {
   "cell_type": "code",
   "execution_count": 7,
   "metadata": {},
   "outputs": [],
   "source": [
    "df['id'] = df.apply(create_id, axis=1)"
   ]
  },
  {
   "cell_type": "markdown",
   "metadata": {},
   "source": [
    "### By year"
   ]
  },
  {
   "cell_type": "code",
   "execution_count": 8,
   "metadata": {},
   "outputs": [],
   "source": [
    "lineups_by_year = df.groupby(['year', 'id']).size().reset_index(name='lineups').groupby(['year']).size().reset_index(name=\"lineups\")"
   ]
  },
  {
   "cell_type": "code",
   "execution_count": 9,
   "metadata": {},
   "outputs": [],
   "source": [
    "lineups_by_year['manager'] = lineups_by_year.year.apply(\n",
    "    lambda x: 'Joe Maddon' if x >= 2015 else 'Somebody else'\n",
    ")"
   ]
  },
  {
   "cell_type": "code",
   "execution_count": 10,
   "metadata": {},
   "outputs": [
    {
     "data": {
      "application/vnd.vegalite.v2+json": {
       "$schema": "https://vega.github.io/schema/vega-lite/v2.6.0.json",
       "config": {
        "arc": {
         "fill": "#82c6df"
        },
        "area": {
         "fill": "#82c6df"
        },
        "axis": {
         "labelFont": "Benton Gothic, sans",
         "labelFontSize": 11.5,
         "labelFontWeight": "normal",
         "titleFont": "Benton Gothic Bold, sans",
         "titleFontSize": 13,
         "titleFontWeight": "normal"
        },
        "axisX": {
         "labelAngle": 0,
         "labelPadding": 4,
         "tickSize": 3
        },
        "axisY": {
         "labelBaseline": "middle",
         "maxExtent": 45,
         "minExtent": 45,
         "tickSize": 2,
         "titleAlign": "left",
         "titleAngle": 0,
         "titleX": -45,
         "titleY": -11
        },
        "background": "#ffffff",
        "bar": {
         "fill": "#82c6df"
        },
        "legend": {
         "labelFont": "Benton Gothic, sans",
         "labelFontSize": 11.5,
         "symbolType": "square",
         "titleFont": "Benton Gothic Bold, sans",
         "titleFontSize": 13,
         "titleFontWeight": "normal"
        },
        "line": {
         "stroke": "#82c6df",
         "strokeWidth": 3
        },
        "path": {
         "stroke": "#82c6df"
        },
        "point": {
         "stroke": "#82c6df"
        },
        "range": {
         "category": [
          "#3580b1",
          "#ec8431",
          "#ab7fb4",
          "#c89d29",
          "#adc839",
          "#829eb1"
         ],
         "diverging": [
          "#e68a4f",
          "#f4bb6a",
          "#f9e39c",
          "#dadfe2",
          "#a6b7c6",
          "#849eae"
         ],
         "heatmap": [
          "#fbf2c7",
          "#f9e39c",
          "#f8d36e",
          "#f4bb6a",
          "#e68a4f",
          "#d15a40",
          "#ab4232"
         ],
         "ordinal": [
          "#fbf2c7",
          "#f9e39c",
          "#f8d36e",
          "#f4bb6a",
          "#e68a4f",
          "#d15a40",
          "#ab4232"
         ],
         "ramp": [
          "#fbf2c7",
          "#f9e39c",
          "#f8d36e",
          "#f4bb6a",
          "#e68a4f",
          "#d15a40",
          "#ab4232"
         ]
        },
        "rect": {
         "fill": "#82c6df"
        },
        "shape": {
         "stroke": "#82c6df"
        },
        "symbol": {
         "fill": "#82c6df",
         "size": 30
        },
        "title": {
         "anchor": "start",
         "font": "Benton Gothic Bold, sans",
         "fontColor": "#000000",
         "fontSize": 22,
         "fontWeight": "normal"
        },
        "view": {
         "height": 450,
         "width": 800
        }
       },
       "data": {
        "format": {
         "type": "json"
        },
        "url": "altair-data-c6136839822622ce5948d3864ff4942f.json"
       },
       "encoding": {
        "color": {
         "field": "manager",
         "scale": {
          "domain": [
           "Joe Maddon",
           "Somebody else"
          ],
          "range": [
           "#ec8431",
           "#82c6df"
          ]
         },
         "title": "Manager",
         "type": "nominal"
        },
        "x": {
         "axis": {
          "values": [
           1910,
           1920,
           1930,
           1940,
           1950,
           1960,
           1970,
           1980,
           1990,
           2000,
           2010,
           2015
          ]
         },
         "field": "year",
         "title": "Season",
         "type": "ordinal"
        },
        "y": {
         "field": "lineups",
         "title": "Unique lineups",
         "type": "quantitative"
        }
       },
       "mark": "bar",
       "title": "Unique Chicago Cubs lineups peak under Manager Joe Maddon",
       "width": 800
      },
      "image/png": "[encoded data removed]",
      "text/plain": [
       "<VegaLite 2 object>\n",
       "\n",
       "If you see this message, it means the renderer has not been properly enabled\n",
       "for the frontend that you are using. For more information, see\n",
       "https://altair-viz.github.io/user_guide/troubleshooting.html\n"
      ]
     },
     "execution_count": 10,
     "metadata": {},
     "output_type": "execute_result"
    }
   ],
   "source": [
    "alt.Chart(lineups_by_year).mark_bar().encode(\n",
    "    x=alt.X(\n",
    "        \"year:O\",\n",
    "        title=\"Season\",\n",
    "        axis=alt.Axis(values=[\n",
    "            1910,\n",
    "            1920,\n",
    "            1930,\n",
    "            1940,\n",
    "            1950,\n",
    "            1960,\n",
    "            1970,\n",
    "            1980,\n",
    "            1990,\n",
    "            2000,\n",
    "            2010,\n",
    "            2015\n",
    "        ])\n",
    "    ),\n",
    "    y=alt.Y(\n",
    "        \"lineups:Q\",\n",
    "        title=\"Unique lineups\"\n",
    "    ),\n",
    "    color=alt.Color(\n",
    "        \"manager:N\",\n",
    "        title=\"Manager\",\n",
    "        scale=alt.Scale(\n",
    "            domain=['Joe Maddon', 'Somebody else'],\n",
    "            range=[lat.palette['highlight'], lat.palette['default']]\n",
    "        )\n",
    "    )\n",
    ").properties(\n",
    "    width=800,\n",
    "    title=\"Unique Chicago Cubs lineups peak under Manager Joe Maddon\"\n",
    ")"
   ]
  },
  {
   "cell_type": "markdown",
   "metadata": {},
   "source": [
    "### Pitchers batting 9th"
   ]
  },
  {
   "cell_type": "code",
   "execution_count": 11,
   "metadata": {},
   "outputs": [
    {
     "data": {
      "text/plain": [
       "'97.5%'"
      ]
     },
     "execution_count": 11,
     "metadata": {},
     "output_type": "execute_result"
    }
   ],
   "source": [
    "f\"{(len(df[df.nine == 'pitcher']) / len(df.nine))*100:.01f}%\""
   ]
  },
  {
   "cell_type": "code",
   "execution_count": 12,
   "metadata": {},
   "outputs": [],
   "source": [
    "df['pitcher_batting_ninth'] = df['nine'] == 'pitcher'"
   ]
  },
  {
   "cell_type": "code",
   "execution_count": 13,
   "metadata": {},
   "outputs": [],
   "source": [
    "pitcher_ninth_by_year = df.groupby([\"year\", \"pitcher_batting_ninth\"]).size().rename(\"lineups\").reset_index().pivot(\n",
    "    index=\"year\",\n",
    "    columns=\"pitcher_batting_ninth\",\n",
    "    values=\"lineups\"\n",
    ").fillna(0)"
   ]
  },
  {
   "cell_type": "code",
   "execution_count": 14,
   "metadata": {},
   "outputs": [],
   "source": [
    "pitcher_ninth_by_year['total'] = pitcher_ninth_by_year[False] + pitcher_ninth_by_year[True]"
   ]
  },
  {
   "cell_type": "code",
   "execution_count": 15,
   "metadata": {},
   "outputs": [],
   "source": [
    "pitcher_ninth_by_year['percent'] = pitcher_ninth_by_year[True] / pitcher_ninth_by_year['total']"
   ]
  },
  {
   "cell_type": "code",
   "execution_count": 16,
   "metadata": {},
   "outputs": [
    {
     "data": {
      "text/html": [
       "<div>\n",
       "<style scoped>\n",
       "    .dataframe tbody tr th:only-of-type {\n",
       "        vertical-align: middle;\n",
       "    }\n",
       "\n",
       "    .dataframe tbody tr th {\n",
       "        vertical-align: top;\n",
       "    }\n",
       "\n",
       "    .dataframe thead th {\n",
       "        text-align: right;\n",
       "    }\n",
       "</style>\n",
       "<table border=\"1\" class=\"dataframe\">\n",
       "  <thead>\n",
       "    <tr style=\"text-align: right;\">\n",
       "      <th>pitcher_batting_ninth</th>\n",
       "      <th>False</th>\n",
       "      <th>True</th>\n",
       "      <th>total</th>\n",
       "      <th>percent</th>\n",
       "    </tr>\n",
       "    <tr>\n",
       "      <th>year</th>\n",
       "      <th></th>\n",
       "      <th></th>\n",
       "      <th></th>\n",
       "      <th></th>\n",
       "    </tr>\n",
       "  </thead>\n",
       "  <tbody>\n",
       "    <tr>\n",
       "      <th>2015</th>\n",
       "      <td>150.0</td>\n",
       "      <td>12.0</td>\n",
       "      <td>162.0</td>\n",
       "      <td>0.074074</td>\n",
       "    </tr>\n",
       "    <tr>\n",
       "      <th>2017</th>\n",
       "      <td>65.0</td>\n",
       "      <td>97.0</td>\n",
       "      <td>162.0</td>\n",
       "      <td>0.598765</td>\n",
       "    </tr>\n",
       "    <tr>\n",
       "      <th>2018</th>\n",
       "      <td>64.0</td>\n",
       "      <td>99.0</td>\n",
       "      <td>163.0</td>\n",
       "      <td>0.607362</td>\n",
       "    </tr>\n",
       "    <tr>\n",
       "      <th>2016</th>\n",
       "      <td>19.0</td>\n",
       "      <td>143.0</td>\n",
       "      <td>162.0</td>\n",
       "      <td>0.882716</td>\n",
       "    </tr>\n",
       "    <tr>\n",
       "      <th>2014</th>\n",
       "      <td>10.0</td>\n",
       "      <td>152.0</td>\n",
       "      <td>162.0</td>\n",
       "      <td>0.938272</td>\n",
       "    </tr>\n",
       "    <tr>\n",
       "      <th>2013</th>\n",
       "      <td>10.0</td>\n",
       "      <td>152.0</td>\n",
       "      <td>162.0</td>\n",
       "      <td>0.938272</td>\n",
       "    </tr>\n",
       "    <tr>\n",
       "      <th>2008</th>\n",
       "      <td>9.0</td>\n",
       "      <td>152.0</td>\n",
       "      <td>161.0</td>\n",
       "      <td>0.944099</td>\n",
       "    </tr>\n",
       "    <tr>\n",
       "      <th>2003</th>\n",
       "      <td>9.0</td>\n",
       "      <td>153.0</td>\n",
       "      <td>162.0</td>\n",
       "      <td>0.944444</td>\n",
       "    </tr>\n",
       "    <tr>\n",
       "      <th>2006</th>\n",
       "      <td>9.0</td>\n",
       "      <td>153.0</td>\n",
       "      <td>162.0</td>\n",
       "      <td>0.944444</td>\n",
       "    </tr>\n",
       "    <tr>\n",
       "      <th>2000</th>\n",
       "      <td>9.0</td>\n",
       "      <td>153.0</td>\n",
       "      <td>162.0</td>\n",
       "      <td>0.944444</td>\n",
       "    </tr>\n",
       "  </tbody>\n",
       "</table>\n",
       "</div>"
      ],
      "text/plain": [
       "pitcher_batting_ninth  False   True  total   percent\n",
       "year                                                \n",
       "2015                   150.0  12.0   162.0  0.074074\n",
       "2017                   65.0   97.0   162.0  0.598765\n",
       "2018                   64.0   99.0   163.0  0.607362\n",
       "2016                   19.0   143.0  162.0  0.882716\n",
       "2014                   10.0   152.0  162.0  0.938272\n",
       "2013                   10.0   152.0  162.0  0.938272\n",
       "2008                   9.0    152.0  161.0  0.944099\n",
       "2003                   9.0    153.0  162.0  0.944444\n",
       "2006                   9.0    153.0  162.0  0.944444\n",
       "2000                   9.0    153.0  162.0  0.944444"
      ]
     },
     "execution_count": 16,
     "metadata": {},
     "output_type": "execute_result"
    }
   ],
   "source": [
    "pitcher_ninth_by_year.sort_values(False, ascending=False).head(10)"
   ]
  },
  {
   "cell_type": "code",
   "execution_count": 17,
   "metadata": {},
   "outputs": [],
   "source": [
    "stacked_pitcher_ninth_by_year = pitcher_ninth_by_year.rename(columns={\n",
    "    True: \"Yes\",\n",
    "    False: \"No\"\n",
    "})[[\"Yes\", \"No\"]].stack().reset_index().rename(columns={\n",
    "    \"year\": \"Year\",\n",
    "    \"pitcher_batting_ninth\": \"Pitcher batting 9th\",\n",
    "    0: \"Lineups\"\n",
    "})"
   ]
  },
  {
   "cell_type": "code",
   "execution_count": null,
   "metadata": {},
   "outputs": [],
   "source": []
  },
  {
   "cell_type": "code",
   "execution_count": 18,
   "metadata": {},
   "outputs": [
    {
     "data": {
      "application/vnd.vegalite.v2+json": {
       "$schema": "https://vega.github.io/schema/vega-lite/v2.6.0.json",
       "config": {
        "arc": {
         "fill": "#82c6df"
        },
        "area": {
         "fill": "#82c6df"
        },
        "axis": {
         "labelFont": "Benton Gothic, sans",
         "labelFontSize": 11.5,
         "labelFontWeight": "normal",
         "titleFont": "Benton Gothic Bold, sans",
         "titleFontSize": 13,
         "titleFontWeight": "normal"
        },
        "axisX": {
         "labelAngle": 0,
         "labelPadding": 4,
         "tickSize": 3
        },
        "axisY": {
         "labelBaseline": "middle",
         "maxExtent": 45,
         "minExtent": 45,
         "tickSize": 2,
         "titleAlign": "left",
         "titleAngle": 0,
         "titleX": -45,
         "titleY": -11
        },
        "background": "#ffffff",
        "bar": {
         "fill": "#82c6df"
        },
        "legend": {
         "labelFont": "Benton Gothic, sans",
         "labelFontSize": 11.5,
         "symbolType": "square",
         "titleFont": "Benton Gothic Bold, sans",
         "titleFontSize": 13,
         "titleFontWeight": "normal"
        },
        "line": {
         "stroke": "#82c6df",
         "strokeWidth": 3
        },
        "path": {
         "stroke": "#82c6df"
        },
        "point": {
         "stroke": "#82c6df"
        },
        "range": {
         "category": [
          "#3580b1",
          "#ec8431",
          "#ab7fb4",
          "#c89d29",
          "#adc839",
          "#829eb1"
         ],
         "diverging": [
          "#e68a4f",
          "#f4bb6a",
          "#f9e39c",
          "#dadfe2",
          "#a6b7c6",
          "#849eae"
         ],
         "heatmap": [
          "#fbf2c7",
          "#f9e39c",
          "#f8d36e",
          "#f4bb6a",
          "#e68a4f",
          "#d15a40",
          "#ab4232"
         ],
         "ordinal": [
          "#fbf2c7",
          "#f9e39c",
          "#f8d36e",
          "#f4bb6a",
          "#e68a4f",
          "#d15a40",
          "#ab4232"
         ],
         "ramp": [
          "#fbf2c7",
          "#f9e39c",
          "#f8d36e",
          "#f4bb6a",
          "#e68a4f",
          "#d15a40",
          "#ab4232"
         ]
        },
        "rect": {
         "fill": "#82c6df"
        },
        "shape": {
         "stroke": "#82c6df"
        },
        "symbol": {
         "fill": "#82c6df",
         "size": 30
        },
        "title": {
         "anchor": "start",
         "font": "Benton Gothic Bold, sans",
         "fontColor": "#000000",
         "fontSize": 22,
         "fontWeight": "normal"
        },
        "view": {
         "height": 450,
         "width": 800
        }
       },
       "layer": [
        {
         "data": {
          "format": {
           "type": "json"
          },
          "url": "altair-data-45a818d251fc8a8f0a552991dbbff529.json"
         },
         "encoding": {
          "color": {
           "field": "Pitcher batting 9th",
           "scale": {
            "domain": [
             "Yes",
             "No"
            ],
            "range": [
             "#82c6df",
             "#ec8431"
            ]
           },
           "type": "nominal"
          },
          "order": {
           "field": "Pitcher batting 9th",
           "sort": "ascending",
           "type": "nominal"
          },
          "x": {
           "axis": {
            "values": [
             1910,
             1920,
             1930,
             1940,
             1950,
             1960,
             1970,
             1980,
             1990,
             2000,
             2010,
             2015
            ]
           },
           "field": "Year",
           "title": "Season",
           "type": "ordinal"
          },
          "y": {
           "aggregate": "sum",
           "axis": {
            "format": "%",
            "title": "percentage"
           },
           "field": "Lineups",
           "stack": "normalize",
           "title": "Percentage of lineups",
           "type": "quantitative"
          }
         },
         "mark": "bar"
        },
        {
         "data": {
          "format": {
           "type": "json"
          },
          "url": "altair-data-3d828a7978d9e6fcd249f7866a4bda5a.json"
         },
         "encoding": {
          "text": {
           "field": "textof",
           "type": "nominal"
          },
          "x": {
           "field": "x",
           "type": "ordinal"
          },
          "y": {
           "field": "y",
           "type": "quantitative"
          }
         },
         "mark": {
          "font": "Benton Gothic Bold",
          "fontSize": 15,
          "type": "text"
         }
        },
        {
         "data": {
          "format": {
           "type": "json"
          },
          "url": "altair-data-77c7062814735f031ed092b0987dd5e1.json"
         },
         "encoding": {
          "text": {
           "field": "textof",
           "type": "nominal"
          },
          "x": {
           "field": "x",
           "type": "ordinal"
          },
          "y": {
           "field": "y",
           "type": "quantitative"
          }
         },
         "mark": {
          "dx": -45,
          "font": "Benton Gothic Bold",
          "fontSize": 15,
          "type": "text"
         }
        }
       ],
       "title": "Chicago Cubs lineups with a pitcher batting 9th",
       "width": 800
      },
      "image/png": "[encoded data removed]",
      "text/plain": [
       "<VegaLite 2 object>\n",
       "\n",
       "If you see this message, it means the renderer has not been properly enabled\n",
       "for the frontend that you are using. For more information, see\n",
       "https://altair-viz.github.io/user_guide/troubleshooting.html\n"
      ]
     },
     "execution_count": 18,
     "metadata": {},
     "output_type": "execute_result"
    }
   ],
   "source": [
    "bars = alt.Chart(stacked_pitcher_ninth_by_year).mark_bar().encode(\n",
    "    x=alt.X(\n",
    "        \"Year:O\",\n",
    "        title=\"Season\",\n",
    "        axis=alt.Axis(values=list(range(1910, 2020, 10)) + [2015])\n",
    "    ),\n",
    "    y=alt.Y(\n",
    "        \"sum(Lineups):Q\",\n",
    "        title=\"Percentage of lineups\",\n",
    "        stack='normalize',\n",
    "        axis=alt.Axis(format='%', title='percentage')\n",
    "    ),\n",
    "    color=alt.Color(\n",
    "        \"Pitcher batting 9th:N\",\n",
    "        scale=alt.Scale(\n",
    "            domain=['Yes', 'No'],\n",
    "            range=[lat.palette['default'], lat.palette['highlight']]\n",
    "        )\n",
    "    ),\n",
    "    order=alt.Order(\n",
    "      'Pitcher batting 9th',\n",
    "      sort='ascending'\n",
    "    )\n",
    ")\n",
    "\n",
    "a = {'x': [1997, 1997], 'y': [0.07, 0.11], 'textof': ['↓', \"Interleague play\"]}\n",
    "text = alt.Chart(pd.DataFrame(a)).mark_text(fontSize=15, font=\"Benton Gothic Bold\").encode(\n",
    "    x='x:O',\n",
    "    y='y:Q',\n",
    "    text='textof:N'\n",
    ")\n",
    "\n",
    "a2 = {'x': [2010], 'y': [0.91], 'textof': [\"Joe Maddon hired →\"]}\n",
    "text2 = alt.Chart(pd.DataFrame(a2)).mark_text(fontSize=15, dx=-45, font=\"Benton Gothic Bold\").encode(\n",
    "    x='x:O',\n",
    "    y='y:Q',\n",
    "    text='textof:N'\n",
    ")\n",
    "\n",
    "(bars + text + text2).properties(\n",
    "    width=800,\n",
    "    title=\"Chicago Cubs lineups with a pitcher batting 9th\"\n",
    ")"
   ]
  },
  {
   "cell_type": "code",
   "execution_count": 53,
   "metadata": {},
   "outputs": [
    {
     "data": {
      "text/html": [
       "<div>\n",
       "<style scoped>\n",
       "    .dataframe tbody tr th:only-of-type {\n",
       "        vertical-align: middle;\n",
       "    }\n",
       "\n",
       "    .dataframe tbody tr th {\n",
       "        vertical-align: top;\n",
       "    }\n",
       "\n",
       "    .dataframe thead th {\n",
       "        text-align: right;\n",
       "    }\n",
       "</style>\n",
       "<table border=\"1\" class=\"dataframe\">\n",
       "  <thead>\n",
       "    <tr style=\"text-align: right;\">\n",
       "      <th></th>\n",
       "      <th>index</th>\n",
       "      <th>nine</th>\n",
       "    </tr>\n",
       "  </thead>\n",
       "  <tbody>\n",
       "    <tr>\n",
       "      <th>0</th>\n",
       "      <td>pitcher</td>\n",
       "      <td>16993</td>\n",
       "    </tr>\n",
       "    <tr>\n",
       "      <th>1</th>\n",
       "      <td>Russell</td>\n",
       "      <td>135</td>\n",
       "    </tr>\n",
       "    <tr>\n",
       "      <th>2</th>\n",
       "      <td>Almora</td>\n",
       "      <td>33</td>\n",
       "    </tr>\n",
       "    <tr>\n",
       "      <th>3</th>\n",
       "      <td>Herrera</td>\n",
       "      <td>21</td>\n",
       "    </tr>\n",
       "    <tr>\n",
       "      <th>4</th>\n",
       "      <td>Jay</td>\n",
       "      <td>21</td>\n",
       "    </tr>\n",
       "    <tr>\n",
       "      <th>5</th>\n",
       "      <td>Happ</td>\n",
       "      <td>18</td>\n",
       "    </tr>\n",
       "    <tr>\n",
       "      <th>6</th>\n",
       "      <td>Stella</td>\n",
       "      <td>15</td>\n",
       "    </tr>\n",
       "    <tr>\n",
       "      <th>7</th>\n",
       "      <td>Bote</td>\n",
       "      <td>15</td>\n",
       "    </tr>\n",
       "    <tr>\n",
       "      <th>8</th>\n",
       "      <td>Baez</td>\n",
       "      <td>15</td>\n",
       "    </tr>\n",
       "    <tr>\n",
       "      <th>9</th>\n",
       "      <td>Blanco</td>\n",
       "      <td>13</td>\n",
       "    </tr>\n",
       "  </tbody>\n",
       "</table>\n",
       "</div>"
      ],
      "text/plain": [
       "     index   nine\n",
       "0  pitcher  16993\n",
       "1  Russell  135  \n",
       "2  Almora   33   \n",
       "3  Herrera  21   \n",
       "4  Jay      21   \n",
       "5  Happ     18   \n",
       "6  Stella   15   \n",
       "7  Bote     15   \n",
       "8  Baez     15   \n",
       "9  Blanco   13   "
      ]
     },
     "execution_count": 53,
     "metadata": {},
     "output_type": "execute_result"
    }
   ],
   "source": [
    "df.nine.value_counts().reset_index().head(10)"
   ]
  },
  {
   "cell_type": "markdown",
   "metadata": {},
   "source": [
    "### 2015"
   ]
  },
  {
   "cell_type": "code",
   "execution_count": 45,
   "metadata": {},
   "outputs": [],
   "source": [
    "df_2015 = df[df.year == 2015]"
   ]
  },
  {
   "cell_type": "code",
   "execution_count": 48,
   "metadata": {},
   "outputs": [
    {
     "data": {
      "text/html": [
       "<div>\n",
       "<style scoped>\n",
       "    .dataframe tbody tr th:only-of-type {\n",
       "        vertical-align: middle;\n",
       "    }\n",
       "\n",
       "    .dataframe tbody tr th {\n",
       "        vertical-align: top;\n",
       "    }\n",
       "\n",
       "    .dataframe thead th {\n",
       "        text-align: right;\n",
       "    }\n",
       "</style>\n",
       "<table border=\"1\" class=\"dataframe\">\n",
       "  <thead>\n",
       "    <tr style=\"text-align: right;\">\n",
       "      <th></th>\n",
       "      <th>index</th>\n",
       "      <th>nine</th>\n",
       "    </tr>\n",
       "  </thead>\n",
       "  <tbody>\n",
       "    <tr>\n",
       "      <th>0</th>\n",
       "      <td>Russell</td>\n",
       "      <td>116</td>\n",
       "    </tr>\n",
       "    <tr>\n",
       "      <th>1</th>\n",
       "      <td>Herrera</td>\n",
       "      <td>21</td>\n",
       "    </tr>\n",
       "    <tr>\n",
       "      <th>2</th>\n",
       "      <td>pitcher</td>\n",
       "      <td>12</td>\n",
       "    </tr>\n",
       "    <tr>\n",
       "      <th>3</th>\n",
       "      <td>Stella</td>\n",
       "      <td>9</td>\n",
       "    </tr>\n",
       "    <tr>\n",
       "      <th>4</th>\n",
       "      <td>Coghlan</td>\n",
       "      <td>2</td>\n",
       "    </tr>\n",
       "    <tr>\n",
       "      <th>5</th>\n",
       "      <td>Alcantara</td>\n",
       "      <td>2</td>\n",
       "    </tr>\n",
       "  </tbody>\n",
       "</table>\n",
       "</div>"
      ],
      "text/plain": [
       "       index  nine\n",
       "0  Russell    116 \n",
       "1  Herrera    21  \n",
       "2  pitcher    12  \n",
       "3  Stella     9   \n",
       "4  Coghlan    2   \n",
       "5  Alcantara  2   "
      ]
     },
     "execution_count": 48,
     "metadata": {},
     "output_type": "execute_result"
    }
   ],
   "source": [
    "df_2015.nine.value_counts().reset_index()"
   ]
  },
  {
   "cell_type": "code",
   "execution_count": 49,
   "metadata": {},
   "outputs": [],
   "source": [
    "df_maddon = df[df.year >= 2015]"
   ]
  },
  {
   "cell_type": "code",
   "execution_count": 54,
   "metadata": {},
   "outputs": [
    {
     "data": {
      "text/html": [
       "<div>\n",
       "<style scoped>\n",
       "    .dataframe tbody tr th:only-of-type {\n",
       "        vertical-align: middle;\n",
       "    }\n",
       "\n",
       "    .dataframe tbody tr th {\n",
       "        vertical-align: top;\n",
       "    }\n",
       "\n",
       "    .dataframe thead th {\n",
       "        text-align: right;\n",
       "    }\n",
       "</style>\n",
       "<table border=\"1\" class=\"dataframe\">\n",
       "  <thead>\n",
       "    <tr style=\"text-align: right;\">\n",
       "      <th></th>\n",
       "      <th>index</th>\n",
       "      <th>nine</th>\n",
       "    </tr>\n",
       "  </thead>\n",
       "  <tbody>\n",
       "    <tr>\n",
       "      <th>0</th>\n",
       "      <td>pitcher</td>\n",
       "      <td>351</td>\n",
       "    </tr>\n",
       "    <tr>\n",
       "      <th>1</th>\n",
       "      <td>Russell</td>\n",
       "      <td>135</td>\n",
       "    </tr>\n",
       "    <tr>\n",
       "      <th>2</th>\n",
       "      <td>Almora</td>\n",
       "      <td>33</td>\n",
       "    </tr>\n",
       "    <tr>\n",
       "      <th>3</th>\n",
       "      <td>Herrera</td>\n",
       "      <td>21</td>\n",
       "    </tr>\n",
       "    <tr>\n",
       "      <th>4</th>\n",
       "      <td>Jay</td>\n",
       "      <td>21</td>\n",
       "    </tr>\n",
       "    <tr>\n",
       "      <th>5</th>\n",
       "      <td>Happ</td>\n",
       "      <td>18</td>\n",
       "    </tr>\n",
       "    <tr>\n",
       "      <th>6</th>\n",
       "      <td>Baez</td>\n",
       "      <td>15</td>\n",
       "    </tr>\n",
       "    <tr>\n",
       "      <th>7</th>\n",
       "      <td>Bote</td>\n",
       "      <td>15</td>\n",
       "    </tr>\n",
       "    <tr>\n",
       "      <th>8</th>\n",
       "      <td>Stella</td>\n",
       "      <td>15</td>\n",
       "    </tr>\n",
       "    <tr>\n",
       "      <th>9</th>\n",
       "      <td>Schwarber</td>\n",
       "      <td>6</td>\n",
       "    </tr>\n",
       "  </tbody>\n",
       "</table>\n",
       "</div>"
      ],
      "text/plain": [
       "       index  nine\n",
       "0  pitcher    351 \n",
       "1  Russell    135 \n",
       "2  Almora     33  \n",
       "3  Herrera    21  \n",
       "4  Jay        21  \n",
       "5  Happ       18  \n",
       "6  Baez       15  \n",
       "7  Bote       15  \n",
       "8  Stella     15  \n",
       "9  Schwarber  6   "
      ]
     },
     "execution_count": 54,
     "metadata": {},
     "output_type": "execute_result"
    }
   ],
   "source": [
    "df_maddon.nine.value_counts().reset_index().head(10)"
   ]
  },
  {
   "cell_type": "markdown",
   "metadata": {},
   "source": [
    "### 1969"
   ]
  },
  {
   "cell_type": "code",
   "execution_count": 19,
   "metadata": {},
   "outputs": [],
   "source": [
    "df_1969 = df[df.year == 1969]"
   ]
  },
  {
   "cell_type": "code",
   "execution_count": 20,
   "metadata": {},
   "outputs": [
    {
     "data": {
      "text/plain": [
       "count     163                                                                  \n",
       "unique    59                                                                   \n",
       "top       Kessinger-Beckert-Williams-Santo-Banks-Hundley-Spangler-Young-pitcher\n",
       "freq      18                                                                   \n",
       "Name: id, dtype: object"
      ]
     },
     "execution_count": 20,
     "metadata": {},
     "output_type": "execute_result"
    }
   ],
   "source": [
    "df_1969.id.describe()"
   ]
  },
  {
   "cell_type": "code",
   "execution_count": 21,
   "metadata": {},
   "outputs": [],
   "source": [
    "top_lineups = df_1969.groupby(\"id\").size().rename(\"games\").reset_index().sort_values(\"games\", ascending=False)"
   ]
  },
  {
   "cell_type": "code",
   "execution_count": 22,
   "metadata": {},
   "outputs": [
    {
     "data": {
      "text/html": [
       "<div>\n",
       "<style scoped>\n",
       "    .dataframe tbody tr th:only-of-type {\n",
       "        vertical-align: middle;\n",
       "    }\n",
       "\n",
       "    .dataframe tbody tr th {\n",
       "        vertical-align: top;\n",
       "    }\n",
       "\n",
       "    .dataframe thead th {\n",
       "        text-align: right;\n",
       "    }\n",
       "</style>\n",
       "<table border=\"1\" class=\"dataframe\">\n",
       "  <thead>\n",
       "    <tr style=\"text-align: right;\">\n",
       "      <th></th>\n",
       "      <th>id</th>\n",
       "      <th>games</th>\n",
       "    </tr>\n",
       "  </thead>\n",
       "  <tbody>\n",
       "    <tr>\n",
       "      <th>22</th>\n",
       "      <td>Kessinger-Beckert-Williams-Santo-Banks-Hundley-Spangler-Young-pitcher</td>\n",
       "      <td>18</td>\n",
       "    </tr>\n",
       "    <tr>\n",
       "      <th>19</th>\n",
       "      <td>Kessinger-Beckert-Williams-Santo-Banks-Hundley-Hickman-Young-pitcher</td>\n",
       "      <td>17</td>\n",
       "    </tr>\n",
       "    <tr>\n",
       "      <th>24</th>\n",
       "      <td>Kessinger-Beckert-Williams-Santo-Banks-Smith-Hundley-Qualls-pitcher</td>\n",
       "      <td>11</td>\n",
       "    </tr>\n",
       "    <tr>\n",
       "      <th>14</th>\n",
       "      <td>Kessinger-Beckert-Williams-Santo-Banks-Hickman-Hundley-Young-pitcher</td>\n",
       "      <td>11</td>\n",
       "    </tr>\n",
       "    <tr>\n",
       "      <th>11</th>\n",
       "      <td>Kessinger-Beckert-Williams-Santo-Banks-Hickman-Hundley-Gamble-pitcher</td>\n",
       "      <td>9</td>\n",
       "    </tr>\n",
       "    <tr>\n",
       "      <th>21</th>\n",
       "      <td>Kessinger-Beckert-Williams-Santo-Banks-Hundley-Spangler-Phillips-pitcher</td>\n",
       "      <td>7</td>\n",
       "    </tr>\n",
       "    <tr>\n",
       "      <th>51</th>\n",
       "      <td>Kessinger-Popovich-Williams-Santo-Banks-Smith-Hundley-Young-pitcher</td>\n",
       "      <td>6</td>\n",
       "    </tr>\n",
       "    <tr>\n",
       "      <th>49</th>\n",
       "      <td>Kessinger-Popovich-Williams-Santo-Banks-Hundley-Spangler-Young-pitcher</td>\n",
       "      <td>5</td>\n",
       "    </tr>\n",
       "    <tr>\n",
       "      <th>17</th>\n",
       "      <td>Kessinger-Beckert-Williams-Santo-Banks-Hundley-Hickman-Phillips-pitcher</td>\n",
       "      <td>5</td>\n",
       "    </tr>\n",
       "    <tr>\n",
       "      <th>25</th>\n",
       "      <td>Kessinger-Beckert-Williams-Santo-Banks-Smith-Hundley-Young-pitcher</td>\n",
       "      <td>5</td>\n",
       "    </tr>\n",
       "    <tr>\n",
       "      <th>18</th>\n",
       "      <td>Kessinger-Beckert-Williams-Santo-Banks-Hundley-Hickman-Qualls-pitcher</td>\n",
       "      <td>4</td>\n",
       "    </tr>\n",
       "    <tr>\n",
       "      <th>6</th>\n",
       "      <td>Kessinger-Beckert-Williams-Santo-Banks-Hall-Hickman-Hundley-pitcher</td>\n",
       "      <td>4</td>\n",
       "    </tr>\n",
       "    <tr>\n",
       "      <th>27</th>\n",
       "      <td>Kessinger-Beckert-Williams-Santo-Banks-Spangler-Hundley-Qualls-pitcher</td>\n",
       "      <td>3</td>\n",
       "    </tr>\n",
       "    <tr>\n",
       "      <th>0</th>\n",
       "      <td>Gamble-Beckert-Williams-Hickman-Banks-Santo-Popovich-Hundley-pitcher</td>\n",
       "      <td>2</td>\n",
       "    </tr>\n",
       "    <tr>\n",
       "      <th>28</th>\n",
       "      <td>Kessinger-Beckert-Williams-Santo-Smith-Heath-Hickman-Young-pitcher</td>\n",
       "      <td>2</td>\n",
       "    </tr>\n",
       "    <tr>\n",
       "      <th>33</th>\n",
       "      <td>Kessinger-Beckert-Williams-Santo-Smith-Spangler-Hickman-Heath-pitcher</td>\n",
       "      <td>2</td>\n",
       "    </tr>\n",
       "    <tr>\n",
       "      <th>34</th>\n",
       "      <td>Kessinger-Beckert-Williams-Santo-Smith-Spangler-Hundley-Qualls-pitcher</td>\n",
       "      <td>2</td>\n",
       "    </tr>\n",
       "    <tr>\n",
       "      <th>46</th>\n",
       "      <td>Kessinger-Popovich-Williams-Santo-Banks-Hickman-Hundley-Young-pitcher</td>\n",
       "      <td>2</td>\n",
       "    </tr>\n",
       "    <tr>\n",
       "      <th>56</th>\n",
       "      <td>Kessinger-Spangler-Williams-Santo-Banks-Hundley-Qualls-Young-pitcher</td>\n",
       "      <td>2</td>\n",
       "    </tr>\n",
       "    <tr>\n",
       "      <th>57</th>\n",
       "      <td>Kessinger-Spangler-Williams-Santo-Banks-Hundley-Young-Oliver-pitcher</td>\n",
       "      <td>2</td>\n",
       "    </tr>\n",
       "    <tr>\n",
       "      <th>31</th>\n",
       "      <td>Kessinger-Beckert-Williams-Santo-Smith-Hundley-Spangler-Phillips-pitcher</td>\n",
       "      <td>2</td>\n",
       "    </tr>\n",
       "    <tr>\n",
       "      <th>58</th>\n",
       "      <td>Popovich-Beckert-Williams-Santo-Banks-Hickman-Hundley-Young-pitcher</td>\n",
       "      <td>2</td>\n",
       "    </tr>\n",
       "    <tr>\n",
       "      <th>9</th>\n",
       "      <td>Kessinger-Beckert-Williams-Santo-Banks-Hickman-Gamble-Hundley-pitcher</td>\n",
       "      <td>2</td>\n",
       "    </tr>\n",
       "    <tr>\n",
       "      <th>16</th>\n",
       "      <td>Kessinger-Beckert-Williams-Santo-Banks-Hickman-Oliver-Young-pitcher</td>\n",
       "      <td>2</td>\n",
       "    </tr>\n",
       "    <tr>\n",
       "      <th>10</th>\n",
       "      <td>Kessinger-Beckert-Williams-Santo-Banks-Hickman-Heath-Young-pitcher</td>\n",
       "      <td>2</td>\n",
       "    </tr>\n",
       "  </tbody>\n",
       "</table>\n",
       "</div>"
      ],
      "text/plain": [
       "                                                                          id  \\\n",
       "22  Kessinger-Beckert-Williams-Santo-Banks-Hundley-Spangler-Young-pitcher      \n",
       "19  Kessinger-Beckert-Williams-Santo-Banks-Hundley-Hickman-Young-pitcher       \n",
       "24  Kessinger-Beckert-Williams-Santo-Banks-Smith-Hundley-Qualls-pitcher        \n",
       "14  Kessinger-Beckert-Williams-Santo-Banks-Hickman-Hundley-Young-pitcher       \n",
       "11  Kessinger-Beckert-Williams-Santo-Banks-Hickman-Hundley-Gamble-pitcher      \n",
       "21  Kessinger-Beckert-Williams-Santo-Banks-Hundley-Spangler-Phillips-pitcher   \n",
       "51  Kessinger-Popovich-Williams-Santo-Banks-Smith-Hundley-Young-pitcher        \n",
       "49  Kessinger-Popovich-Williams-Santo-Banks-Hundley-Spangler-Young-pitcher     \n",
       "17  Kessinger-Beckert-Williams-Santo-Banks-Hundley-Hickman-Phillips-pitcher    \n",
       "25  Kessinger-Beckert-Williams-Santo-Banks-Smith-Hundley-Young-pitcher         \n",
       "18  Kessinger-Beckert-Williams-Santo-Banks-Hundley-Hickman-Qualls-pitcher      \n",
       "6   Kessinger-Beckert-Williams-Santo-Banks-Hall-Hickman-Hundley-pitcher        \n",
       "27  Kessinger-Beckert-Williams-Santo-Banks-Spangler-Hundley-Qualls-pitcher     \n",
       "0   Gamble-Beckert-Williams-Hickman-Banks-Santo-Popovich-Hundley-pitcher       \n",
       "28  Kessinger-Beckert-Williams-Santo-Smith-Heath-Hickman-Young-pitcher         \n",
       "33  Kessinger-Beckert-Williams-Santo-Smith-Spangler-Hickman-Heath-pitcher      \n",
       "34  Kessinger-Beckert-Williams-Santo-Smith-Spangler-Hundley-Qualls-pitcher     \n",
       "46  Kessinger-Popovich-Williams-Santo-Banks-Hickman-Hundley-Young-pitcher      \n",
       "56  Kessinger-Spangler-Williams-Santo-Banks-Hundley-Qualls-Young-pitcher       \n",
       "57  Kessinger-Spangler-Williams-Santo-Banks-Hundley-Young-Oliver-pitcher       \n",
       "31  Kessinger-Beckert-Williams-Santo-Smith-Hundley-Spangler-Phillips-pitcher   \n",
       "58  Popovich-Beckert-Williams-Santo-Banks-Hickman-Hundley-Young-pitcher        \n",
       "9   Kessinger-Beckert-Williams-Santo-Banks-Hickman-Gamble-Hundley-pitcher      \n",
       "16  Kessinger-Beckert-Williams-Santo-Banks-Hickman-Oliver-Young-pitcher        \n",
       "10  Kessinger-Beckert-Williams-Santo-Banks-Hickman-Heath-Young-pitcher         \n",
       "\n",
       "    games  \n",
       "22  18     \n",
       "19  17     \n",
       "24  11     \n",
       "14  11     \n",
       "11  9      \n",
       "21  7      \n",
       "51  6      \n",
       "49  5      \n",
       "17  5      \n",
       "25  5      \n",
       "18  4      \n",
       "6   4      \n",
       "27  3      \n",
       "0   2      \n",
       "28  2      \n",
       "33  2      \n",
       "34  2      \n",
       "46  2      \n",
       "56  2      \n",
       "57  2      \n",
       "31  2      \n",
       "58  2      \n",
       "9   2      \n",
       "16  2      \n",
       "10  2      "
      ]
     },
     "execution_count": 22,
     "metadata": {},
     "output_type": "execute_result"
    }
   ],
   "source": [
    "top_lineups[top_lineups.games > 1]"
   ]
  },
  {
   "cell_type": "markdown",
   "metadata": {},
   "source": [
    "### 2018"
   ]
  },
  {
   "cell_type": "code",
   "execution_count": 23,
   "metadata": {},
   "outputs": [],
   "source": [
    "df_2018 = df[df.year == 2018]"
   ]
  },
  {
   "cell_type": "code",
   "execution_count": 24,
   "metadata": {},
   "outputs": [
    {
     "data": {
      "text/html": [
       "<div>\n",
       "<style scoped>\n",
       "    .dataframe tbody tr th:only-of-type {\n",
       "        vertical-align: middle;\n",
       "    }\n",
       "\n",
       "    .dataframe tbody tr th {\n",
       "        vertical-align: top;\n",
       "    }\n",
       "\n",
       "    .dataframe thead th {\n",
       "        text-align: right;\n",
       "    }\n",
       "</style>\n",
       "<table border=\"1\" class=\"dataframe\">\n",
       "  <thead>\n",
       "    <tr style=\"text-align: right;\">\n",
       "      <th></th>\n",
       "      <th>year</th>\n",
       "      <th>one</th>\n",
       "      <th>two</th>\n",
       "      <th>three</th>\n",
       "      <th>four</th>\n",
       "      <th>five</th>\n",
       "      <th>six</th>\n",
       "      <th>seven</th>\n",
       "      <th>eight</th>\n",
       "      <th>nine</th>\n",
       "      <th>id</th>\n",
       "      <th>pitcher_batting_ninth</th>\n",
       "    </tr>\n",
       "    <tr>\n",
       "      <th>number</th>\n",
       "      <th></th>\n",
       "      <th></th>\n",
       "      <th></th>\n",
       "      <th></th>\n",
       "      <th></th>\n",
       "      <th></th>\n",
       "      <th></th>\n",
       "      <th></th>\n",
       "      <th></th>\n",
       "      <th></th>\n",
       "      <th></th>\n",
       "      <th></th>\n",
       "    </tr>\n",
       "  </thead>\n",
       "  <tbody>\n",
       "    <tr>\n",
       "      <th>1</th>\n",
       "      <td>2018</td>\n",
       "      <td>Happ</td>\n",
       "      <td>Bryant</td>\n",
       "      <td>Rizzo</td>\n",
       "      <td>Contreras</td>\n",
       "      <td>Schwarber</td>\n",
       "      <td>Russell</td>\n",
       "      <td>Heyward</td>\n",
       "      <td>Baez</td>\n",
       "      <td>pitcher</td>\n",
       "      <td>Happ-Bryant-Rizzo-Contreras-Schwarber-Russell-Heyward-Baez-pitcher</td>\n",
       "      <td>True</td>\n",
       "    </tr>\n",
       "    <tr>\n",
       "      <th>2</th>\n",
       "      <td>2018</td>\n",
       "      <td>Almora</td>\n",
       "      <td>Bryant</td>\n",
       "      <td>Rizzo</td>\n",
       "      <td>Contreras</td>\n",
       "      <td>Schwarber</td>\n",
       "      <td>Russell</td>\n",
       "      <td>Zobrist</td>\n",
       "      <td>Baez</td>\n",
       "      <td>pitcher</td>\n",
       "      <td>Almora-Bryant-Rizzo-Contreras-Schwarber-Russell-Zobrist-Baez-pitcher</td>\n",
       "      <td>True</td>\n",
       "    </tr>\n",
       "    <tr>\n",
       "      <th>3</th>\n",
       "      <td>2018</td>\n",
       "      <td>Happ</td>\n",
       "      <td>Bryant</td>\n",
       "      <td>Rizzo</td>\n",
       "      <td>Contreras</td>\n",
       "      <td>Schwarber</td>\n",
       "      <td>Russell</td>\n",
       "      <td>Zobrist</td>\n",
       "      <td>Heyward</td>\n",
       "      <td>pitcher</td>\n",
       "      <td>Happ-Bryant-Rizzo-Contreras-Schwarber-Russell-Zobrist-Heyward-pitcher</td>\n",
       "      <td>True</td>\n",
       "    </tr>\n",
       "    <tr>\n",
       "      <th>4</th>\n",
       "      <td>2018</td>\n",
       "      <td>Almora</td>\n",
       "      <td>Bryant</td>\n",
       "      <td>Rizzo</td>\n",
       "      <td>Russell</td>\n",
       "      <td>Schwarber</td>\n",
       "      <td>Caratini</td>\n",
       "      <td>Heyward</td>\n",
       "      <td>Baez</td>\n",
       "      <td>pitcher</td>\n",
       "      <td>Almora-Bryant-Rizzo-Russell-Schwarber-Caratini-Heyward-Baez-pitcher</td>\n",
       "      <td>True</td>\n",
       "    </tr>\n",
       "    <tr>\n",
       "      <th>5</th>\n",
       "      <td>2018</td>\n",
       "      <td>Happ</td>\n",
       "      <td>Bryant</td>\n",
       "      <td>Rizzo</td>\n",
       "      <td>Contreras</td>\n",
       "      <td>Schwarber</td>\n",
       "      <td>Russell</td>\n",
       "      <td>Heyward</td>\n",
       "      <td>Baez</td>\n",
       "      <td>pitcher</td>\n",
       "      <td>Happ-Bryant-Rizzo-Contreras-Schwarber-Russell-Heyward-Baez-pitcher</td>\n",
       "      <td>True</td>\n",
       "    </tr>\n",
       "  </tbody>\n",
       "</table>\n",
       "</div>"
      ],
      "text/plain": [
       "        year     one     two  three       four       five       six    seven  \\\n",
       "number                                                                         \n",
       "1       2018  Happ    Bryant  Rizzo  Contreras  Schwarber  Russell   Heyward   \n",
       "2       2018  Almora  Bryant  Rizzo  Contreras  Schwarber  Russell   Zobrist   \n",
       "3       2018  Happ    Bryant  Rizzo  Contreras  Schwarber  Russell   Zobrist   \n",
       "4       2018  Almora  Bryant  Rizzo  Russell    Schwarber  Caratini  Heyward   \n",
       "5       2018  Happ    Bryant  Rizzo  Contreras  Schwarber  Russell   Heyward   \n",
       "\n",
       "          eight     nine  \\\n",
       "number                     \n",
       "1       Baez     pitcher   \n",
       "2       Baez     pitcher   \n",
       "3       Heyward  pitcher   \n",
       "4       Baez     pitcher   \n",
       "5       Baez     pitcher   \n",
       "\n",
       "                                                                           id  \\\n",
       "number                                                                          \n",
       "1       Happ-Bryant-Rizzo-Contreras-Schwarber-Russell-Heyward-Baez-pitcher      \n",
       "2       Almora-Bryant-Rizzo-Contreras-Schwarber-Russell-Zobrist-Baez-pitcher    \n",
       "3       Happ-Bryant-Rizzo-Contreras-Schwarber-Russell-Zobrist-Heyward-pitcher   \n",
       "4       Almora-Bryant-Rizzo-Russell-Schwarber-Caratini-Heyward-Baez-pitcher     \n",
       "5       Happ-Bryant-Rizzo-Contreras-Schwarber-Russell-Heyward-Baez-pitcher      \n",
       "\n",
       "        pitcher_batting_ninth  \n",
       "number                         \n",
       "1       True                   \n",
       "2       True                   \n",
       "3       True                   \n",
       "4       True                   \n",
       "5       True                   "
      ]
     },
     "execution_count": 24,
     "metadata": {},
     "output_type": "execute_result"
    }
   ],
   "source": [
    "df_2018.head()"
   ]
  },
  {
   "cell_type": "code",
   "execution_count": 25,
   "metadata": {},
   "outputs": [
    {
     "data": {
      "text/plain": [
       "count     163                                                                 \n",
       "unique    152                                                                 \n",
       "top       Almora-Baez-Bryant-Rizzo-Contreras-Schwarber-Russell-Heyward-pitcher\n",
       "freq      5                                                                   \n",
       "Name: id, dtype: object"
      ]
     },
     "execution_count": 25,
     "metadata": {},
     "output_type": "execute_result"
    }
   ],
   "source": [
    "df_2018.id.describe()"
   ]
  },
  {
   "cell_type": "code",
   "execution_count": 26,
   "metadata": {},
   "outputs": [],
   "source": [
    "top_lineups = df_2018.groupby(\"id\").size().rename(\"games\").reset_index().sort_values(\"games\", ascending=False)"
   ]
  },
  {
   "cell_type": "code",
   "execution_count": 27,
   "metadata": {},
   "outputs": [
    {
     "data": {
      "text/html": [
       "<div>\n",
       "<style scoped>\n",
       "    .dataframe tbody tr th:only-of-type {\n",
       "        vertical-align: middle;\n",
       "    }\n",
       "\n",
       "    .dataframe tbody tr th {\n",
       "        vertical-align: top;\n",
       "    }\n",
       "\n",
       "    .dataframe thead th {\n",
       "        text-align: right;\n",
       "    }\n",
       "</style>\n",
       "<table border=\"1\" class=\"dataframe\">\n",
       "  <thead>\n",
       "    <tr style=\"text-align: right;\">\n",
       "      <th></th>\n",
       "      <th>id</th>\n",
       "      <th>games</th>\n",
       "    </tr>\n",
       "  </thead>\n",
       "  <tbody>\n",
       "    <tr>\n",
       "      <th>2</th>\n",
       "      <td>Almora-Baez-Bryant-Rizzo-Contreras-Schwarber-Russell-Heyward-pitcher</td>\n",
       "      <td>5</td>\n",
       "    </tr>\n",
       "    <tr>\n",
       "      <th>25</th>\n",
       "      <td>Almora-Heyward-Baez-Rizzo-Contreras-Schwarber-Happ-Russell-pitcher</td>\n",
       "      <td>2</td>\n",
       "    </tr>\n",
       "    <tr>\n",
       "      <th>72</th>\n",
       "      <td>Murphy-Baez-Rizzo-Zobrist-Heyward-Contreras-Schwarber-pitcher-Bote</td>\n",
       "      <td>2</td>\n",
       "    </tr>\n",
       "    <tr>\n",
       "      <th>144</th>\n",
       "      <td>Zobrist-Heyward-Bryant-Rizzo-Contreras-Schwarber-Baez-Almora-pitcher</td>\n",
       "      <td>2</td>\n",
       "    </tr>\n",
       "    <tr>\n",
       "      <th>10</th>\n",
       "      <td>Almora-Baez-Rizzo-Contreras-Stella-Schwarber-Russell-Heyward-Happ</td>\n",
       "      <td>2</td>\n",
       "    </tr>\n",
       "    <tr>\n",
       "      <th>53</th>\n",
       "      <td>Happ-Bryant-Rizzo-Contreras-Schwarber-Russell-Heyward-Baez-pitcher</td>\n",
       "      <td>2</td>\n",
       "    </tr>\n",
       "    <tr>\n",
       "      <th>106</th>\n",
       "      <td>Rizzo-Bryant-Heyward-Baez-Contreras-Schwarber-Almora-Russell-pitcher</td>\n",
       "      <td>2</td>\n",
       "    </tr>\n",
       "    <tr>\n",
       "      <th>15</th>\n",
       "      <td>Almora-Bryant-Rizzo-Baez-Zobrist-Contreras-Bote-pitcher-Russell</td>\n",
       "      <td>2</td>\n",
       "    </tr>\n",
       "  </tbody>\n",
       "</table>\n",
       "</div>"
      ],
      "text/plain": [
       "                                                                       id  \\\n",
       "2    Almora-Baez-Bryant-Rizzo-Contreras-Schwarber-Russell-Heyward-pitcher   \n",
       "25   Almora-Heyward-Baez-Rizzo-Contreras-Schwarber-Happ-Russell-pitcher     \n",
       "72   Murphy-Baez-Rizzo-Zobrist-Heyward-Contreras-Schwarber-pitcher-Bote     \n",
       "144  Zobrist-Heyward-Bryant-Rizzo-Contreras-Schwarber-Baez-Almora-pitcher   \n",
       "10   Almora-Baez-Rizzo-Contreras-Stella-Schwarber-Russell-Heyward-Happ      \n",
       "53   Happ-Bryant-Rizzo-Contreras-Schwarber-Russell-Heyward-Baez-pitcher     \n",
       "106  Rizzo-Bryant-Heyward-Baez-Contreras-Schwarber-Almora-Russell-pitcher   \n",
       "15   Almora-Bryant-Rizzo-Baez-Zobrist-Contreras-Bote-pitcher-Russell        \n",
       "\n",
       "     games  \n",
       "2    5      \n",
       "25   2      \n",
       "72   2      \n",
       "144  2      \n",
       "10   2      \n",
       "53   2      \n",
       "106  2      \n",
       "15   2      "
      ]
     },
     "execution_count": 27,
     "metadata": {},
     "output_type": "execute_result"
    }
   ],
   "source": [
    "top_lineups[top_lineups.games > 1]"
   ]
  },
  {
   "cell_type": "markdown",
   "metadata": {},
   "source": [
    "### Has the lineup in Game 163 against the Brewers ever been used before?"
   ]
  },
  {
   "cell_type": "markdown",
   "metadata": {},
   "source": [
    "<img src=\"input/game163.jpg\">"
   ]
  },
  {
   "cell_type": "code",
   "execution_count": 28,
   "metadata": {},
   "outputs": [],
   "source": [
    "game163 = 'Murphy-Zobrist-Baez-Rizzo-Bryant-Schwarber-Heyward-pitcher-Contreras'"
   ]
  },
  {
   "cell_type": "code",
   "execution_count": 29,
   "metadata": {},
   "outputs": [
    {
     "data": {
      "text/html": [
       "<div>\n",
       "<style scoped>\n",
       "    .dataframe tbody tr th:only-of-type {\n",
       "        vertical-align: middle;\n",
       "    }\n",
       "\n",
       "    .dataframe tbody tr th {\n",
       "        vertical-align: top;\n",
       "    }\n",
       "\n",
       "    .dataframe thead th {\n",
       "        text-align: right;\n",
       "    }\n",
       "</style>\n",
       "<table border=\"1\" class=\"dataframe\">\n",
       "  <thead>\n",
       "    <tr style=\"text-align: right;\">\n",
       "      <th></th>\n",
       "      <th>year</th>\n",
       "      <th>one</th>\n",
       "      <th>two</th>\n",
       "      <th>three</th>\n",
       "      <th>four</th>\n",
       "      <th>five</th>\n",
       "      <th>six</th>\n",
       "      <th>seven</th>\n",
       "      <th>eight</th>\n",
       "      <th>nine</th>\n",
       "      <th>id</th>\n",
       "      <th>pitcher_batting_ninth</th>\n",
       "    </tr>\n",
       "    <tr>\n",
       "      <th>number</th>\n",
       "      <th></th>\n",
       "      <th></th>\n",
       "      <th></th>\n",
       "      <th></th>\n",
       "      <th></th>\n",
       "      <th></th>\n",
       "      <th></th>\n",
       "      <th></th>\n",
       "      <th></th>\n",
       "      <th></th>\n",
       "      <th></th>\n",
       "      <th></th>\n",
       "    </tr>\n",
       "  </thead>\n",
       "  <tbody>\n",
       "    <tr>\n",
       "      <th>163</th>\n",
       "      <td>2018</td>\n",
       "      <td>Murphy</td>\n",
       "      <td>Zobrist</td>\n",
       "      <td>Baez</td>\n",
       "      <td>Rizzo</td>\n",
       "      <td>Bryant</td>\n",
       "      <td>Schwarber</td>\n",
       "      <td>Heyward</td>\n",
       "      <td>pitcher</td>\n",
       "      <td>Contreras</td>\n",
       "      <td>Murphy-Zobrist-Baez-Rizzo-Bryant-Schwarber-Heyward-pitcher-Contreras</td>\n",
       "      <td>False</td>\n",
       "    </tr>\n",
       "  </tbody>\n",
       "</table>\n",
       "</div>"
      ],
      "text/plain": [
       "        year     one      two three   four    five        six    seven  \\\n",
       "number                                                                   \n",
       "163     2018  Murphy  Zobrist  Baez  Rizzo  Bryant  Schwarber  Heyward   \n",
       "\n",
       "          eight       nine  \\\n",
       "number                       \n",
       "163     pitcher  Contreras   \n",
       "\n",
       "                                                                          id  \\\n",
       "number                                                                         \n",
       "163     Murphy-Zobrist-Baez-Rizzo-Bryant-Schwarber-Heyward-pitcher-Contreras   \n",
       "\n",
       "        pitcher_batting_ninth  \n",
       "number                         \n",
       "163     False                  "
      ]
     },
     "execution_count": 29,
     "metadata": {},
     "output_type": "execute_result"
    }
   ],
   "source": [
    "df[df.id==game163]"
   ]
  },
  {
   "cell_type": "markdown",
   "metadata": {},
   "source": [
    "### Has the lineup in the Wild Card Game ever been used before?"
   ]
  },
  {
   "cell_type": "markdown",
   "metadata": {},
   "source": [
    "<img src=\"input/wild-card-lineup.jpg\">"
   ]
  },
  {
   "cell_type": "code",
   "execution_count": 30,
   "metadata": {},
   "outputs": [],
   "source": [
    "wildcard = \"Zobrist-Bryant-Rizzo-Baez-Almora-Murphy-Contreras-Bote-pitcher\""
   ]
  },
  {
   "cell_type": "code",
   "execution_count": 31,
   "metadata": {},
   "outputs": [
    {
     "data": {
      "text/html": [
       "<div>\n",
       "<style scoped>\n",
       "    .dataframe tbody tr th:only-of-type {\n",
       "        vertical-align: middle;\n",
       "    }\n",
       "\n",
       "    .dataframe tbody tr th {\n",
       "        vertical-align: top;\n",
       "    }\n",
       "\n",
       "    .dataframe thead th {\n",
       "        text-align: right;\n",
       "    }\n",
       "</style>\n",
       "<table border=\"1\" class=\"dataframe\">\n",
       "  <thead>\n",
       "    <tr style=\"text-align: right;\">\n",
       "      <th></th>\n",
       "      <th>year</th>\n",
       "      <th>one</th>\n",
       "      <th>two</th>\n",
       "      <th>three</th>\n",
       "      <th>four</th>\n",
       "      <th>five</th>\n",
       "      <th>six</th>\n",
       "      <th>seven</th>\n",
       "      <th>eight</th>\n",
       "      <th>nine</th>\n",
       "      <th>id</th>\n",
       "      <th>pitcher_batting_ninth</th>\n",
       "    </tr>\n",
       "    <tr>\n",
       "      <th>number</th>\n",
       "      <th></th>\n",
       "      <th></th>\n",
       "      <th></th>\n",
       "      <th></th>\n",
       "      <th></th>\n",
       "      <th></th>\n",
       "      <th></th>\n",
       "      <th></th>\n",
       "      <th></th>\n",
       "      <th></th>\n",
       "      <th></th>\n",
       "      <th></th>\n",
       "    </tr>\n",
       "  </thead>\n",
       "  <tbody>\n",
       "  </tbody>\n",
       "</table>\n",
       "</div>"
      ],
      "text/plain": [
       "Empty DataFrame\n",
       "Columns: [year, one, two, three, four, five, six, seven, eight, nine, id, pitcher_batting_ninth]\n",
       "Index: []"
      ]
     },
     "execution_count": 31,
     "metadata": {},
     "output_type": "execute_result"
    }
   ],
   "source": [
    "df[df.id==wildcard]"
   ]
  },
  {
   "cell_type": "markdown",
   "metadata": {},
   "source": [
    "### When was the most frequent lineup used?"
   ]
  },
  {
   "cell_type": "code",
   "execution_count": 32,
   "metadata": {},
   "outputs": [
    {
     "data": {
      "text/html": [
       "<div>\n",
       "<style scoped>\n",
       "    .dataframe tbody tr th:only-of-type {\n",
       "        vertical-align: middle;\n",
       "    }\n",
       "\n",
       "    .dataframe tbody tr th {\n",
       "        vertical-align: top;\n",
       "    }\n",
       "\n",
       "    .dataframe thead th {\n",
       "        text-align: right;\n",
       "    }\n",
       "</style>\n",
       "<table border=\"1\" class=\"dataframe\">\n",
       "  <thead>\n",
       "    <tr style=\"text-align: right;\">\n",
       "      <th></th>\n",
       "      <th>year</th>\n",
       "      <th>one</th>\n",
       "      <th>two</th>\n",
       "      <th>three</th>\n",
       "      <th>four</th>\n",
       "      <th>five</th>\n",
       "      <th>six</th>\n",
       "      <th>seven</th>\n",
       "      <th>eight</th>\n",
       "      <th>nine</th>\n",
       "      <th>id</th>\n",
       "      <th>pitcher_batting_ninth</th>\n",
       "    </tr>\n",
       "    <tr>\n",
       "      <th>number</th>\n",
       "      <th></th>\n",
       "      <th></th>\n",
       "      <th></th>\n",
       "      <th></th>\n",
       "      <th></th>\n",
       "      <th></th>\n",
       "      <th></th>\n",
       "      <th></th>\n",
       "      <th></th>\n",
       "      <th></th>\n",
       "      <th></th>\n",
       "      <th></th>\n",
       "    </tr>\n",
       "  </thead>\n",
       "  <tbody>\n",
       "    <tr>\n",
       "      <th>16</th>\n",
       "      <td>2018</td>\n",
       "      <td>Almora</td>\n",
       "      <td>Baez</td>\n",
       "      <td>Bryant</td>\n",
       "      <td>Rizzo</td>\n",
       "      <td>Contreras</td>\n",
       "      <td>Schwarber</td>\n",
       "      <td>Russell</td>\n",
       "      <td>Heyward</td>\n",
       "      <td>pitcher</td>\n",
       "      <td>Almora-Baez-Bryant-Rizzo-Contreras-Schwarber-Russell-Heyward-pitcher</td>\n",
       "      <td>True</td>\n",
       "    </tr>\n",
       "    <tr>\n",
       "      <th>17</th>\n",
       "      <td>2018</td>\n",
       "      <td>Almora</td>\n",
       "      <td>Baez</td>\n",
       "      <td>Bryant</td>\n",
       "      <td>Rizzo</td>\n",
       "      <td>Contreras</td>\n",
       "      <td>Schwarber</td>\n",
       "      <td>Russell</td>\n",
       "      <td>Heyward</td>\n",
       "      <td>pitcher</td>\n",
       "      <td>Almora-Baez-Bryant-Rizzo-Contreras-Schwarber-Russell-Heyward-pitcher</td>\n",
       "      <td>True</td>\n",
       "    </tr>\n",
       "    <tr>\n",
       "      <th>25</th>\n",
       "      <td>2018</td>\n",
       "      <td>Almora</td>\n",
       "      <td>Baez</td>\n",
       "      <td>Bryant</td>\n",
       "      <td>Rizzo</td>\n",
       "      <td>Contreras</td>\n",
       "      <td>Schwarber</td>\n",
       "      <td>Russell</td>\n",
       "      <td>Heyward</td>\n",
       "      <td>pitcher</td>\n",
       "      <td>Almora-Baez-Bryant-Rizzo-Contreras-Schwarber-Russell-Heyward-pitcher</td>\n",
       "      <td>True</td>\n",
       "    </tr>\n",
       "    <tr>\n",
       "      <th>49</th>\n",
       "      <td>2018</td>\n",
       "      <td>Almora</td>\n",
       "      <td>Baez</td>\n",
       "      <td>Bryant</td>\n",
       "      <td>Rizzo</td>\n",
       "      <td>Contreras</td>\n",
       "      <td>Schwarber</td>\n",
       "      <td>Russell</td>\n",
       "      <td>Heyward</td>\n",
       "      <td>pitcher</td>\n",
       "      <td>Almora-Baez-Bryant-Rizzo-Contreras-Schwarber-Russell-Heyward-pitcher</td>\n",
       "      <td>True</td>\n",
       "    </tr>\n",
       "    <tr>\n",
       "      <th>52</th>\n",
       "      <td>2018</td>\n",
       "      <td>Almora</td>\n",
       "      <td>Baez</td>\n",
       "      <td>Bryant</td>\n",
       "      <td>Rizzo</td>\n",
       "      <td>Contreras</td>\n",
       "      <td>Schwarber</td>\n",
       "      <td>Russell</td>\n",
       "      <td>Heyward</td>\n",
       "      <td>pitcher</td>\n",
       "      <td>Almora-Baez-Bryant-Rizzo-Contreras-Schwarber-Russell-Heyward-pitcher</td>\n",
       "      <td>True</td>\n",
       "    </tr>\n",
       "  </tbody>\n",
       "</table>\n",
       "</div>"
      ],
      "text/plain": [
       "        year     one   two   three   four       five        six    seven  \\\n",
       "number                                                                     \n",
       "16      2018  Almora  Baez  Bryant  Rizzo  Contreras  Schwarber  Russell   \n",
       "17      2018  Almora  Baez  Bryant  Rizzo  Contreras  Schwarber  Russell   \n",
       "25      2018  Almora  Baez  Bryant  Rizzo  Contreras  Schwarber  Russell   \n",
       "49      2018  Almora  Baez  Bryant  Rizzo  Contreras  Schwarber  Russell   \n",
       "52      2018  Almora  Baez  Bryant  Rizzo  Contreras  Schwarber  Russell   \n",
       "\n",
       "          eight     nine  \\\n",
       "number                     \n",
       "16      Heyward  pitcher   \n",
       "17      Heyward  pitcher   \n",
       "25      Heyward  pitcher   \n",
       "49      Heyward  pitcher   \n",
       "52      Heyward  pitcher   \n",
       "\n",
       "                                                                          id  \\\n",
       "number                                                                         \n",
       "16      Almora-Baez-Bryant-Rizzo-Contreras-Schwarber-Russell-Heyward-pitcher   \n",
       "17      Almora-Baez-Bryant-Rizzo-Contreras-Schwarber-Russell-Heyward-pitcher   \n",
       "25      Almora-Baez-Bryant-Rizzo-Contreras-Schwarber-Russell-Heyward-pitcher   \n",
       "49      Almora-Baez-Bryant-Rizzo-Contreras-Schwarber-Russell-Heyward-pitcher   \n",
       "52      Almora-Baez-Bryant-Rizzo-Contreras-Schwarber-Russell-Heyward-pitcher   \n",
       "\n",
       "        pitcher_batting_ninth  \n",
       "number                         \n",
       "16      True                   \n",
       "17      True                   \n",
       "25      True                   \n",
       "49      True                   \n",
       "52      True                   "
      ]
     },
     "execution_count": 32,
     "metadata": {},
     "output_type": "execute_result"
    }
   ],
   "source": [
    "df[df.id == 'Almora-Baez-Bryant-Rizzo-Contreras-Schwarber-Russell-Heyward-pitcher']"
   ]
  },
  {
   "cell_type": "markdown",
   "metadata": {},
   "source": [
    "### How many times has the pitcher batted ninth?"
   ]
  },
  {
   "cell_type": "code",
   "execution_count": 33,
   "metadata": {},
   "outputs": [
    {
     "data": {
      "text/plain": [
       "99"
      ]
     },
     "execution_count": 33,
     "metadata": {},
     "output_type": "execute_result"
    }
   ],
   "source": [
    "len(df_2018[df_2018.nine == 'pitcher'])"
   ]
  },
  {
   "cell_type": "code",
   "execution_count": 34,
   "metadata": {},
   "outputs": [
    {
     "data": {
      "text/plain": [
       "54"
      ]
     },
     "execution_count": 34,
     "metadata": {},
     "output_type": "execute_result"
    }
   ],
   "source": [
    "len(df_2018[df_2018.eight == 'pitcher'])"
   ]
  },
  {
   "cell_type": "code",
   "execution_count": 35,
   "metadata": {},
   "outputs": [
    {
     "data": {
      "text/plain": [
       "count     163    \n",
       "unique    8      \n",
       "top       pitcher\n",
       "freq      99     \n",
       "Name: nine, dtype: object"
      ]
     },
     "execution_count": 35,
     "metadata": {},
     "output_type": "execute_result"
    }
   ],
   "source": [
    "df_2018.nine.describe()"
   ]
  },
  {
   "cell_type": "code",
   "execution_count": 36,
   "metadata": {},
   "outputs": [
    {
     "data": {
      "text/plain": [
       "pitcher      99\n",
       "Happ         18\n",
       "Russell      16\n",
       "Bote         15\n",
       "Almora       7 \n",
       "Caratini     4 \n",
       "Stella       3 \n",
       "Contreras    1 \n",
       "Name: nine, dtype: int64"
      ]
     },
     "execution_count": 36,
     "metadata": {},
     "output_type": "execute_result"
    }
   ],
   "source": [
    "df_2018.nine.value_counts()"
   ]
  },
  {
   "cell_type": "markdown",
   "metadata": {},
   "source": [
    "### Who are the most frequent batters at the other positions?"
   ]
  },
  {
   "cell_type": "code",
   "execution_count": 37,
   "metadata": {},
   "outputs": [
    {
     "data": {
      "text/plain": [
       "pitcher      54\n",
       "Heyward      25\n",
       "Happ         21\n",
       "Russell      20\n",
       "Baez         12\n",
       "Gimenez      8 \n",
       "Caratini     6 \n",
       "Schwarber    4 \n",
       "Contreras    4 \n",
       "Bote         4 \n",
       "Almora       3 \n",
       "Stella       2 \n",
       "Name: eight, dtype: int64"
      ]
     },
     "execution_count": 37,
     "metadata": {},
     "output_type": "execute_result"
    }
   ],
   "source": [
    "df_2018.eight.value_counts()"
   ]
  },
  {
   "cell_type": "code",
   "execution_count": 38,
   "metadata": {},
   "outputs": [
    {
     "data": {
      "text/plain": [
       "Russell      42\n",
       "Contreras    27\n",
       "Happ         19\n",
       "Baez         15\n",
       "Caratini     15\n",
       "Heyward      13\n",
       "Schwarber    9 \n",
       "Almora       8 \n",
       "Bote         8 \n",
       "Zobrist      5 \n",
       "Gimenez      1 \n",
       "Stella       1 \n",
       "Name: seven, dtype: int64"
      ]
     },
     "execution_count": 38,
     "metadata": {},
     "output_type": "execute_result"
    }
   ],
   "source": [
    "df_2018.seven.value_counts()"
   ]
  },
  {
   "cell_type": "code",
   "execution_count": 39,
   "metadata": {},
   "outputs": [
    {
     "data": {
      "text/plain": [
       "Schwarber    71\n",
       "Contreras    16\n",
       "Russell      14\n",
       "Happ         13\n",
       "Caratini     11\n",
       "Almora       8 \n",
       "Bote         8 \n",
       "Baez         7 \n",
       "Zobrist      6 \n",
       "Bryant       4 \n",
       "Heyward      3 \n",
       "Stella       2 \n",
       "Name: six, dtype: int64"
      ]
     },
     "execution_count": 39,
     "metadata": {},
     "output_type": "execute_result"
    }
   ],
   "source": [
    "df_2018.six.value_counts()"
   ]
  },
  {
   "cell_type": "code",
   "execution_count": 40,
   "metadata": {},
   "outputs": [
    {
     "data": {
      "text/plain": [
       "Contreras    43\n",
       "Schwarber    27\n",
       "Baez         17\n",
       "Happ         16\n",
       "Russell      12\n",
       "Zobrist      11\n",
       "Almora       8 \n",
       "Heyward      7 \n",
       "Stella       7 \n",
       "Bryant       6 \n",
       "Bote         5 \n",
       "Caratini     4 \n",
       "Name: five, dtype: int64"
      ]
     },
     "execution_count": 40,
     "metadata": {},
     "output_type": "execute_result"
    }
   ],
   "source": [
    "df_2018.five.value_counts()"
   ]
  },
  {
   "cell_type": "code",
   "execution_count": 41,
   "metadata": {},
   "outputs": [
    {
     "data": {
      "text/plain": [
       "Rizzo        67\n",
       "Baez         31\n",
       "Contreras    29\n",
       "Zobrist      17\n",
       "Russell      5 \n",
       "Heyward      5 \n",
       "Bryant       3 \n",
       "Bote         3 \n",
       "Murphy       2 \n",
       "Schwarber    1 \n",
       "Name: four, dtype: int64"
      ]
     },
     "execution_count": 41,
     "metadata": {},
     "output_type": "execute_result"
    }
   ],
   "source": [
    "df_2018.four.value_counts()"
   ]
  },
  {
   "cell_type": "code",
   "execution_count": 42,
   "metadata": {},
   "outputs": [
    {
     "data": {
      "text/plain": [
       "Rizzo        49\n",
       "Bryant       36\n",
       "Zobrist      23\n",
       "Baez         22\n",
       "Heyward      21\n",
       "Bote         4 \n",
       "Schwarber    2 \n",
       "Contreras    2 \n",
       "Almora       2 \n",
       "Murphy       1 \n",
       "Stella       1 \n",
       "Name: three, dtype: int64"
      ]
     },
     "execution_count": 42,
     "metadata": {},
     "output_type": "execute_result"
    }
   ],
   "source": [
    "df_2018.three.value_counts()"
   ]
  },
  {
   "cell_type": "code",
   "execution_count": 43,
   "metadata": {},
   "outputs": [
    {
     "data": {
      "text/plain": [
       "Bryant       43\n",
       "Baez         37\n",
       "Heyward      37\n",
       "Zobrist      19\n",
       "Almora       12\n",
       "Schwarber    6 \n",
       "Stella       5 \n",
       "Happ         2 \n",
       "Russell      1 \n",
       "Rizzo        1 \n",
       "Name: two, dtype: int64"
      ]
     },
     "execution_count": 43,
     "metadata": {},
     "output_type": "execute_result"
    }
   ],
   "source": [
    "df_2018.two.value_counts()"
   ]
  },
  {
   "cell_type": "code",
   "execution_count": 44,
   "metadata": {},
   "outputs": [
    {
     "data": {
      "text/plain": [
       "Almora       46\n",
       "Rizzo        31\n",
       "Murphy       30\n",
       "Zobrist      27\n",
       "Happ         13\n",
       "Bryant       7 \n",
       "Baez         4 \n",
       "Stella       3 \n",
       "Schwarber    1 \n",
       "Contreras    1 \n",
       "Name: one, dtype: int64"
      ]
     },
     "execution_count": 44,
     "metadata": {},
     "output_type": "execute_result"
    }
   ],
   "source": [
    "df_2018.one.value_counts()"
   ]
  }
 ],
 "metadata": {
  "kernelspec": {
   "display_name": "Python 3",
   "language": "python",
   "name": "python3"
  },
  "language_info": {
   "codemirror_mode": {
    "name": "ipython",
    "version": 3
   },
   "file_extension": ".py",
   "mimetype": "text/x-python",
   "name": "python",
   "nbconvert_exporter": "python",
   "pygments_lexer": "ipython3",
   "version": "3.6.7"
  }
 },
 "nbformat": 4,
 "nbformat_minor": 2
}
